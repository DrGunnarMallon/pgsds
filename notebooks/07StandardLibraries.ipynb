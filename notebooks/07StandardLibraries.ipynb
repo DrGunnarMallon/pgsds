{
 "cells": [
  {
   "cell_type": "markdown",
   "id": "adb5db98-573d-4766-96ae-f29bd7323989",
   "metadata": {},
   "source": [
    "<img src=\"images/notebook7_header.png\" width=\"1024\" alt=\"Python for Geospatial Data Science\" style=\"border-radius:10px\"/>\n",
    "\n",
    "**Dr Gunnar Mallon** (g.mallon@rug.nl), *Department of Cultural Geography (Faculty of Spatial Science)*, *University of Groningen*\n",
    "\n",
    "---\n"
   ]
  },
  {
   "cell_type": "markdown",
   "id": "00fe7f32",
   "metadata": {},
   "source": [
    "Python's standard libraries are a vast collection of pre-built modules and packages that extend Python's capabilities. Leveraging these libraries can significantly enhance your programming productivity.\n",
    "\n",
    "Standard libraries in Python are pre-written modules that provide a wide range of functionality to perform common tasks. These libraries are included with the Python programming language and can be used directly in your programs without the need for additional installation. They are designed to save time and effort by providing ready-to-use functions and classes for various purposes.\n",
    "\n",
    "The role of standard libraries in Python is to provide a set of tools and utilities that simplify the development process. These libraries encapsulate complex operations and algorithms, allowing you to focus on solving higher-level problems rather than reinventing the wheel. By utilizing standard libraries, you can write more efficient and maintainable code.\n",
    "\n",
    "Using standard libraries is important for efficiency because it allows you to leverage the expertise and experience of the Python community. These libraries are developed and maintained by a large community of contributors, ensuring that they are well-tested, optimized, and reliable. By using standard libraries, you can take advantage of the collective knowledge and effort of the Python community, saving time and effort in the development process."
   ]
  },
  {
   "cell_type": "markdown",
   "id": "1d04d787",
   "metadata": {},
   "source": [
    "## Commonly Used Standard Libraries\n",
    "\n",
    "Python provides a rich set of standard libraries that cover a wide range of domains. Here are some commonly used standard libraries:\n",
    "\n",
    "- `math`: This library provides mathematical operations and functions, such as trigonometric functions, logarithmic functions, and mathematical constants.\n",
    "- `random`: This library allows you to generate random numbers and perform random selections. It is useful for simulations, games, and cryptography.\n",
    "- `datetime`: This library provides classes for working with dates, times, and time intervals. It allows you to perform various operations, such as formatting dates, calculating time differences, and parsing date strings.\n",
    "- `os`: This library provides functions for interacting with the operating system. It allows you to perform operations such as file and directory manipulation, environment variable access, and process management.\n",
    "- `json`: This library provides functions for working with JSON (JavaScript Object Notation) data. It allows you to encode Python objects into JSON strings and decode JSON strings into Python objects.\n",
    "- `re`: This library provides support for regular expressions, which are powerful tools for text processing and pattern matching. It allows you to search, replace, and manipulate strings based on patterns.\n",
    "- `collections`: This library provides additional data structures beyond the built-in lists and dictionaries. It includes useful data structures such as named tuples, ordered dictionaries, and counters.\n",
    "\n",
    "Some of these you will have already encountered. Let's look at the first three in more detail."
   ]
  },
  {
   "cell_type": "markdown",
   "id": "fccaf492",
   "metadata": {},
   "source": [
    "### Importing Standard Libraries\n",
    "\n",
    "To use standard libraries in your Python programs, you need to import them first. The `import` statement is used to import standard libraries and modules into your program. You can import standard libraries in different ways. Here are some of the most common ways to import standard libraries:\n",
    "\n",
    "- Importing the entire library:\n",
    "\n",
    "```python\n",
    "import math\n",
    "print(math.sqrt(25))  # Output: 5.0\n",
    "```\n",
    "\n",
    "- Importing specific functions or classes from a library:\n",
    "\n",
    "```python\n",
    "from math import sqrt\n",
    "print(sqrt(25))  # Output: 5.0\n",
    "```\n",
    "\n",
    "- Importing a library with an alias:\n",
    "\n",
    "```python\n",
    "import math as m\n",
    "print(m.sqrt(25))  # Output: 5.0\n",
    "```\n",
    "\n",
    "It is generally recommended to import the entire library or import specific functions/classes rather than using the `from library import *` syntax, which you might see in some older code. This helps avoid naming conflicts and makes it clear which library a function or class belongs to."
   ]
  },
  {
   "cell_type": "code",
   "execution_count": null,
   "id": "6eb2d6ed",
   "metadata": {},
   "outputs": [],
   "source": []
  },
  {
   "cell_type": "markdown",
   "id": "33daf3f5",
   "metadata": {},
   "source": [
    "### The Python Standard Library Documentation\n",
    "\n",
    "The official Python Standard Library documentation is a valuable resource for understanding and using standard libraries. It provides detailed information on available modules, functions, classes, and their usage. \n",
    "\n",
    "[Python Standard Library Documentation](https://docs.python.org/3/library/index.html)\n",
    "\n",
    "Here are some tips for using the documentation effectively:\n",
    "\n",
    "- **Exploring the documentation**: The documentation is organized into modules, each covering a specific topic or functionality. You can browse the documentation to find modules related to your needs.\n",
    "\n",
    "- **Finding information on modules and functions**: Each module and function has its own documentation page. You can search for a specific module or function to find its documentation page.\n",
    "\n",
    "- **Understanding module usage and options**: The documentation provides examples and explanations of how to use each module and its functions. It also describes the available options and parameters for each function."
   ]
  },
  {
   "cell_type": "markdown",
   "id": "733a10d8",
   "metadata": {},
   "source": [
    "## The `math` Library\n",
    "\n",
    "The `math` library in Python provides a set of functions and constants for performing common mathematical operations. It provides functions for performing basic arithmetic operations such as addition, subtraction, multiplication, and division. Here are some examples:\n",
    "\n",
    "```python\n",
    "import math\n",
    "\n",
    "# Addition\n",
    "result = math.add(2, 3)  # Returns 5\n",
    "\n",
    "# Subtraction\n",
    "result = math.subtract(5, 2)  # Returns 3\n",
    "\n",
    "# Multiplication\n",
    "result = math.multiply(4, 3)  # Returns 12\n",
    "\n",
    "# Division\n",
    "result = math.divide(10, 2)  # Returns 5\n",
    "```\n",
    "\n",
    "### Functions for trigonometry, logarithms, exponentials, and more\n",
    "\n",
    "In addition to basic arithmetic operations, the `math` library also provides functions for trigonometry, logarithms, exponentials, and more. Here are some examples:\n",
    "\n",
    "```python\n",
    "import math\n",
    "\n",
    "# Trigonometry\n",
    "result = math.sin(math.pi/2)  # Returns 1.0\n",
    "\n",
    "# Logarithms\n",
    "result = math.log(10)  # Returns 2.302585092994046\n",
    "\n",
    "# Exponentials\n",
    "result = math.exp(2)  # Returns 7.3890560989306495\n",
    "```\n",
    "\n",
    "### Mathematical constants available in the library\n",
    "\n",
    "The `math` library also provides access to several mathematical constants, such as pi (π) and Euler's number (e). Here are some examples:\n",
    "\n",
    "```python\n",
    "import math\n",
    "\n",
    "# Pi\n",
    "result = math.pi  # Returns 3.141592653589793\n",
    "\n",
    "# Euler's number\n",
    "result = math.e  # Returns 2.718281828459045\n",
    "```"
   ]
  },
  {
   "cell_type": "markdown",
   "id": "72f76ef8",
   "metadata": {},
   "source": [
    "## The `random` Library\n",
    "\n",
    "The `random` library in Python allows you to generate random numbers and sequences. It is useful for simulating random events and probability distributions. Here are some examples:\n",
    "\n",
    "```python\n",
    "import random\n",
    "\n",
    "# Random number between 0 and 1\n",
    "result = random.random()  # Returns a random float between 0 and 1\n",
    "\n",
    "# Random integer between a range\n",
    "result = random.randint(1, 10)  # Returns a random integer between 1 and 10\n",
    "\n",
    "# Random choice from a sequence\n",
    "result = random.choice(['apple', 'banana', 'orange'])  # Returns a random element from the sequence\n",
    "```\n",
    "\n",
    "### Setting seeds for reproducibility\n",
    "\n",
    "If you want to generate the same random numbers or sequences multiple times, you can set a seed value using the `random.seed()` function. This ensures reproducibility of results. Here is an example:\n",
    "\n",
    "```python\n",
    "import random\n",
    "\n",
    "random.seed(42)  # Set the seed value to 42\n",
    "\n",
    "result = random.random()  # Returns the same random float between 0 and 1 every time\n",
    "```\n",
    "\n",
    "### Simulating random events and probability distributions\n",
    "\n",
    "The `random` library also provides functions for simulating random events and probability distributions. Here are some examples:\n",
    "\n",
    "```python\n",
    "import random\n",
    "\n",
    "# Simulating a coin toss\n",
    "result = random.choice(['Heads', 'Tails'])  # Returns either 'Heads' or 'Tails'\n",
    "\n",
    "# Simulating a dice roll\n",
    "result = random.randint(1, 6)  # Returns a random integer between 1 and 6\n",
    "\n",
    "# Simulating a normal distribution\n",
    "result = random.gauss(0, 1)  # Returns a random float from a normal distribution with mean 0 and standard deviation 1\n",
    "```"
   ]
  },
  {
   "cell_type": "markdown",
   "id": "48f36c10",
   "metadata": {},
   "source": [
    "---\n",
    "## Exercises\n",
    "\n",
    "Now that you have learned about the `math` and `random` libraries, it's time to apply your knowledge through practice exercises. These exercises will help you gain proficiency in working with these libraries for various mathematical and probabilistic problems.\n",
    "\n",
    "1. Write a program that calculates the area of a circle using the `math` library. Prompt the user to enter the radius of the circle and display the result."
   ]
  },
  {
   "cell_type": "code",
   "execution_count": null,
   "id": "48a0b912",
   "metadata": {},
   "outputs": [],
   "source": []
  },
  {
   "cell_type": "markdown",
   "id": "c9e67bc0",
   "metadata": {},
   "source": [
    "2. Generate a random password of length 8 using the `random` library. The password should contain a combination of uppercase letters, lowercase letters, and digits."
   ]
  },
  {
   "cell_type": "code",
   "execution_count": null,
   "id": "8494a2fc",
   "metadata": {},
   "outputs": [],
   "source": []
  },
  {
   "cell_type": "markdown",
   "id": "7e3e6ac6",
   "metadata": {},
   "source": [
    "3. Simulate rolling a pair of dice 100 times using the `random` library. Count the number of times each possible sum (2 to 12) occurs and display the results."
   ]
  },
  {
   "cell_type": "code",
   "execution_count": null,
   "id": "6e927be8",
   "metadata": {},
   "outputs": [],
   "source": []
  },
  {
   "cell_type": "markdown",
   "id": "4ce9dbab",
   "metadata": {},
   "source": [
    "4. Write a program that generates 10 random numbers between 1 and 100 using the `random` library. Calculate the mean, median, and mode of the generated numbers."
   ]
  },
  {
   "cell_type": "code",
   "execution_count": null,
   "id": "97496386",
   "metadata": {},
   "outputs": [],
   "source": []
  },
  {
   "cell_type": "markdown",
   "id": "9a4a1370",
   "metadata": {},
   "source": [
    "---\n",
    "## The `datetime` Library\n",
    "\n",
    "In this section, we will learn how to handle dates, times, and timestamps using the `datetime` library in Python - remember from previous exercise, this is something that you've already seen. The `datetime` library provides classes for manipulating dates and times, allowing us to perform various operations such as creating and formatting date and time objects, as well as performing calculations with dates and times.\n",
    "\n",
    "#### Handling dates, times, and timestamps\n",
    "\n",
    "The `datetime` library provides three main classes for handling dates, times, and timestamps:\n",
    "\n",
    "1. `datetime.date`: This class represents a date (year, month, day) and provides methods for manipulating dates, such as getting the current date, extracting specific components of a date, and performing arithmetic operations on dates.\n",
    "\n",
    "Example:\n",
    "```python\n",
    "import datetime\n",
    "\n",
    "today = datetime.date.today()\n",
    "print(today)  # Output: 2022-01-01\n",
    "\n",
    "year = today.year\n",
    "month = today.month\n",
    "day = today.day\n",
    "print(year, month, day)  # Output: 2022 1 1\n",
    "```\n",
    "\n",
    "2. `datetime.time`: This class represents a time (hour, minute, second, microsecond) and provides methods for manipulating times, such as getting the current time, extracting specific components of a time, and performing arithmetic operations on times.\n",
    "\n",
    "Example:\n",
    "```python\n",
    "import datetime\n",
    "\n",
    "current_time = datetime.datetime.now().time()\n",
    "print(current_time)  # Output: 12:34:56.789012\n",
    "\n",
    "hour = current_time.hour\n",
    "minute = current_time.minute\n",
    "second = current_time.second\n",
    "microsecond = current_time.microsecond\n",
    "print(hour, minute, second, microsecond)  # Output: 12 34 56 789012\n",
    "```\n",
    "\n",
    "3. `datetime.datetime`: This class represents a combination of date and time and provides methods for manipulating date and time objects, such as getting the current date and time, extracting specific components of a datetime, and performing arithmetic operations on datetimes.\n",
    "\n",
    "Example:\n",
    "```python\n",
    "import datetime\n",
    "\n",
    "current_datetime = datetime.datetime.now()\n",
    "print(current_datetime)  # Output: 2022-01-01 12:34:56.789012\n",
    "\n",
    "year = current_datetime.year\n",
    "month = current_datetime.month\n",
    "day = current_datetime.day\n",
    "hour = current_datetime.hour\n",
    "minute = current_datetime.minute\n",
    "second = current_datetime.second\n",
    "microsecond = current_datetime.microsecond\n",
    "print(year, month, day, hour, minute, second, microsecond)  # Output: 2022 1 1 12 34 56 789012\n",
    "```"
   ]
  },
  {
   "cell_type": "code",
   "execution_count": null,
   "id": "cd006bb9",
   "metadata": {},
   "outputs": [],
   "source": []
  },
  {
   "cell_type": "code",
   "execution_count": null,
   "id": "d31ec883",
   "metadata": {},
   "outputs": [],
   "source": []
  },
  {
   "cell_type": "markdown",
   "id": "e3175aa3",
   "metadata": {},
   "source": [
    "### Creating and formatting date and time objects\n",
    "\n",
    "The `datetime` library allows us to create date and time objects using the `datetime.date()`, `datetime.time()`, and `datetime.datetime()` constructors. *The term \"constructor\" comes from Object Oriented Programming - something that we will not cover in this course.* We can specify the year, month, day, hour, minute, second, and microsecond values to create specific date and time objects.\n",
    "\n",
    "Example:\n",
    "```python\n",
    "import datetime\n",
    "\n",
    "# Creating a date object\n",
    "date_obj = datetime.date(2022, 1, 1)\n",
    "print(date_obj)  # Output: 2022-01-01\n",
    "\n",
    "# Creating a time object\n",
    "time_obj = datetime.time(12, 34, 56, 789012)\n",
    "print(time_obj)  # Output: 12:34:56.789012\n",
    "\n",
    "# Creating a datetime object\n",
    "datetime_obj = datetime.datetime(2022, 1, 1, 12, 34, 56, 789012)\n",
    "print(datetime_obj)  # Output: 2022-01-01 12:34:56.789012\n",
    "```\n",
    "\n",
    "The `datetime` library also provides various formatting options to represent dates and times in different formats using the `strftime()` method. We can specify the format codes to format the date and time objects according to our requirements.\n",
    "\n",
    "Example:\n",
    "```python\n",
    "import datetime\n",
    "\n",
    "current_datetime = datetime.datetime.now()\n",
    "\n",
    "# Formatting datetime object as a string\n",
    "formatted_datetime = current_datetime.strftime(\"%Y-%m-%d %H:%M:%S\")\n",
    "print(formatted_datetime)  # Output: 2022-01-01 12:34:56\n",
    "\n",
    "# Formatting datetime object as a custom string\n",
    "custom_formatted_datetime = current_datetime.strftime(\"%A, %B %d, %Y\")\n",
    "print(custom_formatted_datetime)  # Output: Saturday, January 01, 2022\n",
    "```"
   ]
  },
  {
   "cell_type": "code",
   "execution_count": null,
   "id": "ea6dff73",
   "metadata": {},
   "outputs": [],
   "source": []
  },
  {
   "cell_type": "code",
   "execution_count": null,
   "id": "6f85ec53",
   "metadata": {},
   "outputs": [],
   "source": []
  },
  {
   "cell_type": "markdown",
   "id": "c6f3bef9",
   "metadata": {},
   "source": [
    "### Performing calculations with dates and times\n",
    "\n",
    "The `datetime` library allows us to perform various calculations with dates and times, such as finding the difference between two dates or times, adding or subtracting a duration from a date or time, and comparing dates or times.\n",
    "\n",
    "Example:\n",
    "```python\n",
    "import datetime\n",
    "\n",
    "# Calculating the difference between two dates\n",
    "date1 = datetime.date(2022, 1, 1)\n",
    "date2 = datetime.date(2023, 1, 1)\n",
    "date_diff = date2 - date1\n",
    "print(date_diff.days)  # Output: 365\n",
    "\n",
    "# Adding a duration to a date\n",
    "date = datetime.date(2022, 1, 1)\n",
    "duration = datetime.timedelta(days=30)\n",
    "new_date = date + duration\n",
    "print(new_date)  # Output: 2022-01-31\n",
    "\n",
    "# Comparing two dates\n",
    "date1 = datetime.date(2022, 1, 1)\n",
    "date2 = datetime.date(2023, 1, 1)\n",
    "print(date1 < date2)  # Output: True\n",
    "```"
   ]
  },
  {
   "cell_type": "markdown",
   "id": "b86eb1bf",
   "metadata": {},
   "source": [
    "---\n",
    "## Exercises\n",
    "\n",
    "1. Calculate the duration between two given dates and print the result in days, hours, minutes, and seconds."
   ]
  },
  {
   "cell_type": "code",
   "execution_count": null,
   "id": "7357f993",
   "metadata": {},
   "outputs": [],
   "source": []
  },
  {
   "cell_type": "markdown",
   "id": "3f38d0f9",
   "metadata": {},
   "source": [
    "2. Parse a date string in the format \"YYYY-MM-DD\" and print the day of the week."
   ]
  },
  {
   "cell_type": "code",
   "execution_count": null,
   "id": "50c50e26",
   "metadata": {},
   "outputs": [],
   "source": []
  },
  {
   "cell_type": "markdown",
   "id": "ff998044",
   "metadata": {},
   "source": [
    "3. Convert a given datetime object from one time zone to another using the `pytz` library."
   ]
  },
  {
   "cell_type": "code",
   "execution_count": null,
   "id": "72ffa9f5",
   "metadata": {},
   "outputs": [],
   "source": []
  },
  {
   "cell_type": "markdown",
   "id": "fb9081f9",
   "metadata": {},
   "source": [
    "4. Calculate the difference in hours between the current time and a given time in a different time zone."
   ]
  },
  {
   "cell_type": "code",
   "execution_count": null,
   "id": "99db63d1",
   "metadata": {},
   "outputs": [],
   "source": []
  },
  {
   "cell_type": "markdown",
   "id": "313279c9",
   "metadata": {},
   "source": [
    "5. Write a program that calculates the area of a circle using the `math` library. Prompt the user for the radius and display the result."
   ]
  },
  {
   "cell_type": "code",
   "execution_count": null,
   "id": "cd0978ba",
   "metadata": {},
   "outputs": [],
   "source": []
  },
  {
   "cell_type": "markdown",
   "id": "fc177a3c",
   "metadata": {},
   "source": [
    "6. Generate a random password of length 8 using the `random` library. The password should contain a mix of uppercase letters, lowercase letters, and digits."
   ]
  },
  {
   "cell_type": "code",
   "execution_count": null,
   "id": "0180c80b",
   "metadata": {},
   "outputs": [],
   "source": []
  },
  {
   "cell_type": "markdown",
   "id": "ed786d57",
   "metadata": {},
   "source": [
    "7. Write a program that takes a date in the format \"YYYY-MM-DD\" and calculates the number of days between that date and the current date using the `datetime` library."
   ]
  },
  {
   "cell_type": "code",
   "execution_count": null,
   "id": "901c9e98",
   "metadata": {},
   "outputs": [],
   "source": []
  },
  {
   "cell_type": "markdown",
   "id": "04aca72c",
   "metadata": {},
   "source": [
    "## Conclusion\n",
    "\n",
    "In this chapter, you've learned how to harness the power of Python's standard libraries to streamline your programming tasks. These libraries provide ready-to-use solutions for various domains, from mathematics to date handling, file management, text processing, and advanced data structures.\n",
    "\n",
    "With a strong understanding of standard libraries, you'll be well-equipped to tackle a wide range of programming challenges efficiently."
   ]
  },
  {
   "cell_type": "code",
   "execution_count": null,
   "id": "a0e464d3",
   "metadata": {},
   "outputs": [],
   "source": []
  }
 ],
 "metadata": {
  "kernelspec": {
   "display_name": "Python 3 (ipykernel)",
   "language": "python",
   "name": "python3"
  },
  "language_info": {
   "codemirror_mode": {
    "name": "ipython",
    "version": 3
   },
   "file_extension": ".py",
   "mimetype": "text/x-python",
   "name": "python",
   "nbconvert_exporter": "python",
   "pygments_lexer": "ipython3",
   "version": "3.11.5"
  }
 },
 "nbformat": 4,
 "nbformat_minor": 5
}
