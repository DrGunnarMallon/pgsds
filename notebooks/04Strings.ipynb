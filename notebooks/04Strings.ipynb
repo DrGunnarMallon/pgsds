{
 "cells": [
  {
   "cell_type": "markdown",
   "id": "443e75d4-169e-41d7-ba0b-4c2e87f0c443",
   "metadata": {},
   "source": [
    "<img src=\"images/notebook4_header.png\" width=\"1024\" alt=\"Python for Geospatial Data Science\" style=\"border-radius:10px\"/>\n",
    "\n",
    "**Dr Gunnar Mallon** (g.mallon@rug.nl), *Department of Cultural Geography (Faculty of Spatial Science)*, *University of Groningen*\n",
    "\n",
    "---\n",
    "\n",
    "***Table of Contents***\n",
    "\n",
    "1. [Creating Strings](#creating_strings)\n",
    "2. [String operations](#string_operations)\n",
    "3. [String formatting](#string_formatting)\n",
    "4. [String escapes](#string_escapes)\n",
    "5. [String exercises](#string_exercises)"
   ]
  },
  {
   "cell_type": "markdown",
   "id": "6e2f0e01-16ee-477b-9fbf-e30e39fa1419",
   "metadata": {},
   "source": [
    "## Introduction to Strings\n",
    "\n",
    "Strings are one of the fundamental data types in Python, used to represent text or sequences of characters. Understanding strings is crucial because they play a vital role in virtually every Python program. In this section, we'll explore what strings are, why they are essential, and how to work with them effectively.\n",
    "\n",
    "A **string** in Python is a sequence of characters enclosed in single (' '), double (\" \"), or triple (''' ''' or \"\"\" \"\"\") quotes. Strings can contain letters, numbers, symbols, and even spaces. They are versatile and can represent anything from names, sentences, file paths, and more.\n",
    "\n",
    "Here are some examples of strings:\n",
    "\n",
    "```python\n",
    "name = \"Alice\"\n",
    "message = 'Hello, World!'\n",
    "address = '''123 Main Street\n",
    "City, Country'''\n",
    "```\n",
    "\n",
    "### Importance of Strings\n",
    "\n",
    "Strings are a fundamental data type for several reasons:\n",
    "\n",
    "**Text Processing**: Strings are used for text processing tasks such as reading and writing files, parsing data, and manipulating textual information.\n",
    "\n",
    "**User Interaction**: Strings are essential for interacting with users through input and output, like displaying messages and receiving user input.\n",
    "\n",
    "**Data Representation**: Many real-world data, like names, addresses, and descriptions, are naturally represented as strings.\n",
    "\n",
    "**Programming Logic**: Strings are used in conditional statements, loops, and functions to make decisions and perform actions based on text data.\n",
    "\n",
    "### String Literals and Enclosures\n",
    "\n",
    "In Python, you can enclose strings in single (' '), double (\" \"), or triple (''' ''' or \"\"\" \"\"\") quotes. The choice of enclosure depends on your specific needs.\n",
    "\n",
    "#### Single Quotes: Enclosing a string in single quotes is useful when the string itself contains double quotes.\n",
    "\n",
    "```python\n",
    "message = 'He said, \"Hello, World!\"'\n",
    "```\n",
    "\n",
    "Double Quotes: Similarly, enclosing a string in double quotes is helpful when the string contains single quotes.\n",
    "\n",
    "```python\n",
    "sentence = \"She's a programmer.\"\n",
    "```\n",
    "\n",
    "Triple Quotes: Triple quotes are used for multi-line strings or when you want to include both single and double quotes without escaping.\n",
    "\n",
    "```python\n",
    "poem = '''Roses are red,\n",
    "Violets are blue,\n",
    "Sugar is sweet,\n",
    "And so are you.'''\n",
    "```\n",
    "\n",
    "Now that we've introduced the basics of strings, let's dive deeper into creating and manipulating strings in the following sections."
   ]
  },
  {
   "cell_type": "markdown",
   "id": "ea49dbd3",
   "metadata": {},
   "source": [
    "<a id=\"creating_strings\"></a>\n",
    "## Creating and Defining Strings\n",
    "\n",
    "Creating and defining strings is a fundamental skill in Python programming. It involves specifying the content of the string, including letters, numbers, symbols, and spaces. Let's explore different ways to create and define strings effectively.\n",
    "\n",
    "### Creating Strings with Single Quotes\n",
    "\n",
    "The simplest way to create a string in Python is by enclosing the text in single quotes (`' '`). For example:\n",
    "\n",
    "```python\n",
    "name = 'Alice'\n",
    "greeting = 'Hello, World!'\n",
    "```\n",
    "\n",
    "Single quotes are handy when the string itself contains double quotes.\n",
    "\n",
    "```python\n",
    "quote = 'She said, \"Python is awesome!\"'\n",
    "```\n",
    "\n",
    "You can also use double quotes (\" \") to create strings. Double quotes are useful when the string contains single quotes.\n",
    "\n",
    "```python\n",
    "sentence = \"She's a programmer.\"\n",
    "```\n",
    "\n",
    "Both single and double quotes work interchangeably, but it's essential to be consistent within your codebase.\n",
    "\n",
    "Triple quotes (''' ''' or \"\"\" \"\"\") are used for multi-line strings or when you want to include both single and double quotes without escaping. They are particularly helpful for creating strings that span multiple lines.\n",
    "\n",
    "```python\n",
    "poem = '''Roses are red,\n",
    "Violets are blue,\n",
    "Sugar is sweet,\n",
    "And so are you.'''\n",
    "```\n",
    "\n",
    "Multi-line strings are also used for docstrings, which provide documentation for functions, classes, and modules."
   ]
  },
  {
   "cell_type": "code",
   "execution_count": null,
   "id": "981a7a5c",
   "metadata": {},
   "outputs": [],
   "source": []
  },
  {
   "cell_type": "markdown",
   "id": "dd1260b0",
   "metadata": {},
   "source": [
    "**Escaping Special Characters**\n",
    "\n",
    "Sometimes, you may need to include special characters like single quotes or double quotes within a string. To do this, you can escape them using a backslash (\\). For example:\n",
    "\n",
    "```python\n",
    "message = \"He said, \\\"Hello, World!\\\"\"\n",
    "```\n",
    "\n",
    "Here, the backslash \\ tells Python to treat the following character as a literal character, not as a string delimiter.\n",
    "\n",
    "**Converting Other Data Types to Strings**\n",
    "\n",
    "You can convert other data types, such as numbers or booleans, to strings using the str() function. This is useful when you want to concatenate non-string values with strings.\n",
    "\n",
    "```python\n",
    "age = 25\n",
    "message = 'I am ' + str(age) + ' years old.'\n",
    "```\n",
    "\n",
    "Converting data types to strings allows you to combine them with text effectively."
   ]
  },
  {
   "cell_type": "code",
   "execution_count": null,
   "id": "b768fcfb",
   "metadata": {},
   "outputs": [],
   "source": []
  },
  {
   "cell_type": "markdown",
   "id": "77f7364d",
   "metadata": {},
   "source": [
    "---\n",
    "### Exercises\n",
    "\n",
    "1. Create a string representing your favorite quote and assign it to a variable. Make sure to include both single and double quotes within the string."
   ]
  },
  {
   "cell_type": "code",
   "execution_count": null,
   "id": "7f9731e8",
   "metadata": {},
   "outputs": [],
   "source": []
  },
  {
   "cell_type": "markdown",
   "id": "8763f67d",
   "metadata": {},
   "source": [
    "2. Define a multi-line string using triple quotes that describes a place you'd like to visit."
   ]
  },
  {
   "cell_type": "code",
   "execution_count": null,
   "id": "f61d5f1f",
   "metadata": {},
   "outputs": [],
   "source": []
  },
  {
   "cell_type": "markdown",
   "id": "159ef40a",
   "metadata": {},
   "source": [
    "3. Convert your age (an integer) to a string and create a sentence that includes your age."
   ]
  },
  {
   "cell_type": "code",
   "execution_count": null,
   "id": "28e22d9a",
   "metadata": {},
   "outputs": [],
   "source": []
  },
  {
   "cell_type": "markdown",
   "id": "8b729a1b",
   "metadata": {},
   "source": [
    "---\n",
    "### Defining and Using F-strings\n",
    "\n",
    "F-strings, short for \"formatted string literals,\" are a powerful and convenient way to create strings with dynamic content in Python. They allow you to embed expressions within strings, making it easier to incorporate variables and values into your text. F-strings are defined by prefixing a string with the letter `f` or `F`, followed by curly braces `{}` containing expressions that will be evaluated and inserted into the string.\n",
    "\n",
    "Let's explore how to define and use F-strings:\n",
    "\n",
    "#### Basic F-strings\n",
    "\n",
    "In its simplest form, you can create an F-string by placing an expression within curly braces `{}` inside a string.\n",
    "\n",
    "```python\n",
    "name = \"Alice\"\n",
    "age = 30\n",
    "message = f\"My name is {name} and I am {age} years old.\"\n",
    "```\n",
    "\n",
    "In this example, the expressions {name} and {age} are replaced with the values of the name and age variables when the string is created. This allows you to create dynamic strings that incorporate variables seamlessly.\n",
    "\n",
    "**Expressions in F-strings**\n",
    "\n",
    "F-strings support a wide range of expressions that can be included within the curly braces. You can perform calculations, access list elements, and call functions, among other things.\n",
    "\n",
    "```python\n",
    "x = 5\n",
    "y = 3\n",
    "result = f\"The sum of {x} and {y} is {x + y}.\"\n",
    "```\n",
    "\n",
    "Here, the expression {x + y} is evaluated, and the result is inserted into the string.\n",
    "\n",
    "F-strings are central to working with strings in Python and have replaced older syntax. Using f-strings is now the prefered way of working with complex strings."
   ]
  },
  {
   "cell_type": "code",
   "execution_count": null,
   "id": "d64c816e",
   "metadata": {},
   "outputs": [],
   "source": []
  },
  {
   "cell_type": "markdown",
   "id": "843eded6",
   "metadata": {},
   "source": [
    "**Formatting in F-strings**\n",
    "\n",
    "F-strings also support various formatting options to control how the inserted values are displayed. You can specify the number of decimal places for floats, control alignment and width, and more.\n",
    "\n",
    "```python\n",
    "price = 19.99\n",
    "formatted_price = f\"The item costs ${price:.2f}.\"\n",
    "```\n",
    "\n",
    "In this example, :.2f specifies that the price variable should be formatted as a floating-point number with two decimal places."
   ]
  },
  {
   "cell_type": "code",
   "execution_count": null,
   "id": "79fceed5",
   "metadata": {},
   "outputs": [],
   "source": []
  },
  {
   "cell_type": "markdown",
   "id": "8aa4d391",
   "metadata": {},
   "source": [
    "---\n",
    "### Exercise\n",
    "\n",
    "1. Create an F-string that includes the current date and time in the format \"Month Day, Year - Hour:Minute:Second.\"\n",
    "\n",
    "(I have started the solution for you and gotten the current date and stored it in a variable called current_datetime. You may have to look up how you can extract the Month, Day, etc... from the variable. If you are stuck, please make sure to ask for help)"
   ]
  },
  {
   "cell_type": "code",
   "execution_count": 1,
   "id": "ae47912e",
   "metadata": {},
   "outputs": [],
   "source": [
    "# Starter code to get you going. The current date and time will be stored in the current_datetime variable\n",
    "\n",
    "import datetime\n",
    "current_datetime = datetime.datetime.now()\n",
    "\n",
    "# Remember the different ways to get help about unknown modules and functions in Python?\n",
    "# Complete the code below to print the current date and time in the format mentioned above"
   ]
  },
  {
   "cell_type": "code",
   "execution_count": null,
   "id": "d632ba5c",
   "metadata": {},
   "outputs": [],
   "source": []
  },
  {
   "cell_type": "markdown",
   "id": "13dbe6ca",
   "metadata": {},
   "source": [
    "---\n",
    "<a id=\"string_operations\"></a>\n",
    "## String Operations\n",
    "\n",
    "String operations allow you to manipulate and work with strings effectively. In this section, we'll explore various operations that you can perform on strings, including concatenation, repetition, indexing, slicing, finding the length of strings, and using built-in string methods and functions.\n",
    "\n",
    "### Concatenation: Combining Strings\n",
    "\n",
    "Concatenation is the process of combining two or more strings to create a new one. You can concatenate strings using the `+` operator.\n",
    "\n",
    "```python\n",
    "first_name = \"John\"\n",
    "last_name = \"Doe\"\n",
    "full_name = first_name + \" \" + last_name  # full_name will be \"John Doe\"\n",
    "```\n",
    "\n",
    "You can also concatenate strings with variables and literals to create dynamic text.\n",
    "\n",
    "```python\n",
    "greeting = \"Hello, \"\n",
    "name = \"Alice\"\n",
    "message = greeting + name + \"!\"  # message will be \"Hello, Alice!\"\n",
    "```"
   ]
  },
  {
   "cell_type": "code",
   "execution_count": null,
   "id": "c7e3ef27",
   "metadata": {},
   "outputs": [],
   "source": []
  },
  {
   "cell_type": "markdown",
   "id": "5fe4749e",
   "metadata": {},
   "source": [
    "\n",
    "### Repetition: Repeating Strings\n",
    "\n",
    "Repetition allows you to create a new string by repeating an existing one multiple times. You can achieve this using the * operator.\n",
    "\n",
    "```python\n",
    "word = \"Python\"\n",
    "repeated_word = word * 3  # repeated_word will be \"PythonPythonPython\"\n",
    "```\n",
    "\n",
    "This is useful for generating repetitive patterns or sequences of characters."
   ]
  },
  {
   "cell_type": "code",
   "execution_count": null,
   "id": "1eff6052",
   "metadata": {},
   "outputs": [],
   "source": []
  },
  {
   "cell_type": "markdown",
   "id": "0ad36db3",
   "metadata": {},
   "source": [
    "### Indexing and Slicing: Accessing Parts of Strings\n",
    "\n",
    "Strings are sequences of characters, and you can access individual characters or portions of a string using indexing and slicing.\n",
    "\n",
    "**Indexing**: To access a single character at a specific position, use square brackets [] with the index (position) of the character.\n",
    "\n",
    "```python\n",
    "word = \"Python\"\n",
    "first_character = word[0]  # first_character will be \"P\"\n",
    "third_character = word[2]  # third_character will be \"t\"\n",
    "```\n",
    "\n",
    "**Slicing**: Slicing allows you to extract a portion of a string by specifying a start and end index, separated by a colon :. The slice includes the character at the start index and goes up to (but does not include) the character at the end index.\n",
    "\n",
    "```python\n",
    "word = \"Python\"\n",
    "substring = word[2:5]  # substring will be \"tho\"\n",
    "```\n",
    "\n",
    "Slicing is a powerful way to work with substrings within a larger string. More about this in Week 3"
   ]
  },
  {
   "cell_type": "code",
   "execution_count": null,
   "id": "43e8627a",
   "metadata": {},
   "outputs": [],
   "source": []
  },
  {
   "cell_type": "markdown",
   "id": "542cdd1c",
   "metadata": {},
   "source": [
    "### Length of Strings\n",
    "\n",
    "You can find the length of a string (the number of characters) using the built-in len() function.\n",
    "\n",
    "```python\n",
    "text = \"This is a string.\"\n",
    "length = len(text)  # length will be 17\n",
    "```\n",
    "\n",
    "Knowing the length of a string is fundamental when working with loops and conditions. Make sure that you really know this method!"
   ]
  },
  {
   "cell_type": "code",
   "execution_count": null,
   "id": "90929ae8",
   "metadata": {},
   "outputs": [],
   "source": []
  },
  {
   "cell_type": "markdown",
   "id": "63e9786b-65d2-473f-960c-8189e1d2bfc8",
   "metadata": {},
   "source": [
    "<a id=\"string_formatting\"></a>\n",
    "## String Formatting\n",
    "\n",
    "Python provides a variety of built-in string methods that allow you to perform operations on strings efficiently. These methods enable you to manipulate and transform strings according to your needs. In this section, we'll explore several commonly used string methods in detail.\n",
    "\n",
    "### Changing Case\n",
    "\n",
    "#### `str.upper()` and `str.lower()`\n",
    "\n",
    "The `str.upper()` method converts all characters in a string to uppercase, while `str.lower()` converts them to lowercase.\n",
    "\n",
    "```python\n",
    "text = \"Hello, World!\"\n",
    "uppercase_text = text.upper()  # uppercase_text will be \"HELLO, WORLD!\"\n",
    "lowercase_text = text.lower()  # lowercase_text will be \"hello, world!\"\n",
    "```\n",
    "\n",
    "Changing case is useful for making string comparisons or ensuring consistent formatting."
   ]
  },
  {
   "cell_type": "code",
   "execution_count": null,
   "id": "86d0210d",
   "metadata": {},
   "outputs": [],
   "source": []
  },
  {
   "cell_type": "markdown",
   "id": "b4c52f20",
   "metadata": {},
   "source": [
    "### Removing Whitespace\n",
    "\n",
    "The `str.strip()` method removes leading and trailing whitespace (spaces, tabs, and newline characters) from a string.\n",
    "\n",
    "```python\n",
    "text = \"   This is a string with whitespace.   \"\n",
    "stripped_text = text.strip()  # stripped_text will be \"This is a string with whitespace.\"\n",
    "```\n",
    "\n",
    "Stripping whitespace is often used when processing user input or cleaning data."
   ]
  },
  {
   "cell_type": "code",
   "execution_count": null,
   "id": "d579917c",
   "metadata": {},
   "outputs": [],
   "source": []
  },
  {
   "cell_type": "markdown",
   "id": "2c5ad6e8",
   "metadata": {},
   "source": [
    "### Replacing Substrings\n",
    "\n",
    "The `str.replace()` method replaces all occurrences of a specified substring with another string.\n",
    "\n",
    "```python\n",
    "sentence = \"This is a sample sentence.\"\n",
    "modified_sentence = sentence.replace(\"sample\", \"new\")  # modified_sentence will be \"This is a new sentence.\"\n",
    "```\n",
    "\n",
    "Replacing substrings is useful for text manipulation and data cleaning tasks."
   ]
  },
  {
   "cell_type": "code",
   "execution_count": null,
   "id": "d396f858",
   "metadata": {},
   "outputs": [],
   "source": []
  },
  {
   "cell_type": "markdown",
   "id": "2d962689",
   "metadata": {},
   "source": [
    "### Splitting Strings into Lists\n",
    "\n",
    "The `str.split()` method splits a string into a list of substrings based on a specified delimiter (default is space).\n",
    "\n",
    "```python\n",
    "csv_data = \"Alice,30,Programmer\"\n",
    "data_list = csv_data.split(\",\")  # data_list will be [\"Alice\", \"30\", \"Programmer\"]\n",
    "```\n",
    "\n",
    "Splitting strings is essential when working with structured data in text format."
   ]
  },
  {
   "cell_type": "code",
   "execution_count": null,
   "id": "f3e55033",
   "metadata": {},
   "outputs": [],
   "source": []
  },
  {
   "cell_type": "markdown",
   "id": "6239deef",
   "metadata": {},
   "source": [
    "### Joining Lists into Strings\n",
    "\n",
    "The `str.join()` method joins the elements of a list into a single string, using the string as a delimiter.\n",
    "\n",
    "```python\n",
    "words = [\"This\", \"is\", \"a\", \"list\"]\n",
    "joined_sentence = \" \".join(words)  # joined_sentence will be \"This is a list\"\n",
    "```\n",
    "\n",
    "Joining lists into strings is handy when formatting output or constructing CSV/TSV files."
   ]
  },
  {
   "cell_type": "code",
   "execution_count": null,
   "id": "158b7ccf",
   "metadata": {},
   "outputs": [],
   "source": []
  },
  {
   "cell_type": "markdown",
   "id": "58826431",
   "metadata": {},
   "source": [
    "### Finding Substrings\n",
    "\n",
    "Both `str.find()` and `str.index()` methods search for a substring within a string and return the starting index of the first occurrence. However, `str.find()` returns -1 if the substring is not found, while `str.index()` raises a ValueError.\n",
    "\n",
    "```python\n",
    "sentence = \"This is a sample sentence.\"\n",
    "position = sentence.find(\"sample\")  # position will be 10\n",
    "```\n",
    "\n",
    "These methods are useful for locating specific content within text."
   ]
  },
  {
   "cell_type": "code",
   "execution_count": null,
   "id": "0a7760aa",
   "metadata": {},
   "outputs": [],
   "source": []
  },
  {
   "cell_type": "markdown",
   "id": "2a1cc39f",
   "metadata": {},
   "source": [
    "### Counting Occurrences\n",
    "\n",
    "The `str.count()` method counts the number of non-overlapping occurrences of a substring in a string.\n",
    "\n",
    "```python\n",
    "text = \"To be or not to be, that is the question.\"\n",
    "count = text.count(\"be\")  # count will be 2\n",
    "```\n",
    "\n",
    "Counting occurrences helps analyze text data."
   ]
  },
  {
   "cell_type": "code",
   "execution_count": null,
   "id": "2c7cac73",
   "metadata": {},
   "outputs": [],
   "source": []
  },
  {
   "cell_type": "markdown",
   "id": "7bbc9856",
   "metadata": {},
   "source": [
    "### Checking Prefixes and Suffixes\n",
    "\n",
    "The `str.startswith()` method checks if a string starts with a specified prefix, and `str.endswith()` checks if it ends with a specified suffix. Both methods return True or False.\n",
    "\n",
    "```python\n",
    "filename = \"document.txt\"\n",
    "is_document = filename.startswith(\"doc\")  # is_document will be True\n",
    "is_text = filename.endswith(\".txt\")  # is_text will be True\n",
    "```\n",
    "\n",
    "These methods are useful for file handling and data validation."
   ]
  },
  {
   "cell_type": "code",
   "execution_count": null,
   "id": "27565d8b",
   "metadata": {},
   "outputs": [],
   "source": []
  },
  {
   "cell_type": "markdown",
   "id": "d175cee6",
   "metadata": {},
   "source": [
    "### Checking Character Types\n",
    "\n",
    "These methods check the character types within a string. `str.isalnum()` checks if all characters are alphanumeric (letters or numbers), `str.isalpha()` checks if they are alphabetic characters, and `str.isdigit()` checks if they are digits.\n",
    "\n",
    "```python\n",
    "alphanumeric = \"Python3\"\n",
    "is_alpha = alphanumeric.isalpha()  # is_alpha will be False\n",
    "is_alnum = alphanumeric.isalnum()  # is_alnum will be True\n",
    "```\n",
    "\n",
    "These methods are helpful for data validation and filtering."
   ]
  },
  {
   "cell_type": "code",
   "execution_count": null,
   "id": "c28780c1",
   "metadata": {},
   "outputs": [],
   "source": []
  },
  {
   "cell_type": "markdown",
   "id": "b0500407",
   "metadata": {},
   "source": [
    "### String Formatting\n",
    "\n",
    "You can format the way that numbers are shown inside of f-strings by using special colon-notation\n",
    "\n",
    "```python\n",
    "price = 19.99\n",
    "formatted_price = f\"The item costs ${price:.1f}.\"\n",
    "print(formatted_price)\n",
    "```\n",
    "\n",
    "You will see that the price has been rounded to one decimal place. Make sure to play around with this."
   ]
  },
  {
   "cell_type": "code",
   "execution_count": null,
   "id": "628a0378",
   "metadata": {},
   "outputs": [],
   "source": []
  },
  {
   "cell_type": "markdown",
   "id": "da656d07-ae54-49e8-881c-c57ce7ab803a",
   "metadata": {},
   "source": [
    "---\n",
    "\n",
    "### Exercises\n",
    "\n",
    "1. Given a string text containing extra spaces at the beginning and end, use str.strip() to remove the leading and trailing whitespace and print the cleaned text."
   ]
  },
  {
   "cell_type": "code",
   "execution_count": null,
   "id": "ed9ba8d4",
   "metadata": {},
   "outputs": [],
   "source": []
  },
  {
   "cell_type": "markdown",
   "id": "add1a8e9",
   "metadata": {},
   "source": [
    "2. Create a string with the following sentence: \"Python is a versatile programming language. Python is used for web development, data analysis, and more.\" Use the str.replace() method to replace all occurrences of \"Python\" with \"JavaScript.\""
   ]
  },
  {
   "cell_type": "code",
   "execution_count": null,
   "id": "6f1d218e",
   "metadata": {},
   "outputs": [],
   "source": []
  },
  {
   "cell_type": "markdown",
   "id": "44043159",
   "metadata": {},
   "source": [
    "3. Given a list of words, use the str.join() method to join them into a single string separated by hyphens (\"-\")."
   ]
  },
  {
   "cell_type": "code",
   "execution_count": null,
   "id": "f13d9b93",
   "metadata": {},
   "outputs": [],
   "source": []
  },
  {
   "cell_type": "markdown",
   "id": "8a069556",
   "metadata": {},
   "source": [
    "4. Create two strings, first_name and last_name, representing your first name and last name. Concatenate them to form a full name and print it."
   ]
  },
  {
   "cell_type": "code",
   "execution_count": null,
   "id": "bdf12c15",
   "metadata": {},
   "outputs": [],
   "source": []
  },
  {
   "cell_type": "markdown",
   "id": "ff550de2",
   "metadata": {},
   "source": [
    "5. Use the str.replace() method to replace all occurrences of a word in a sentence with another word of your choice."
   ]
  },
  {
   "cell_type": "code",
   "execution_count": null,
   "id": "a17a360d",
   "metadata": {},
   "outputs": [],
   "source": []
  },
  {
   "cell_type": "markdown",
   "id": "f3aa1a77",
   "metadata": {},
   "source": [
    "---\n",
    "<a id=\"string_escapes\"></a>\n",
    "## String Escapes and Special Characters\n",
    "\n",
    "In Python strings, you may encounter situations where you need to include special characters or escape sequences within a string. This section will explore how to deal with these situations using backslashes (`\\`) and raw strings (`r\"string\"`).\n",
    "\n",
    "### Escaping Characters with Backslashes\n",
    "\n",
    "#### Backslash as an Escape Character\n",
    "\n",
    "The backslash (`\\`) serves as an escape character in Python strings. It allows you to include characters that are not typically allowed directly in a string.\n",
    "\n",
    "```python\n",
    "message = \"He said, \\\"Hello, World!\\\"\"\n",
    "In this example, the backslash \\ precedes the double quotes \" to include them within the string.\n",
    "```\n",
    "\n",
    "### Common Escape Sequences\n",
    "\n",
    "Python supports various escape sequences to represent special characters within strings:\n",
    "\n",
    "* \\n: Newline (line break)\n",
    "* \\t: Tab\n",
    "* \\\\: Backslash\n",
    "* \\': Single quote\n",
    "* \\\": Double quote\n",
    "\n",
    "```python\n",
    "address = \"123 Main Street\\nCity\\tZip Code\"\n",
    "```\n",
    "\n",
    "This creates a multi-line string with a newline and a tab."
   ]
  },
  {
   "cell_type": "code",
   "execution_count": null,
   "id": "04201d01",
   "metadata": {},
   "outputs": [],
   "source": []
  },
  {
   "cell_type": "markdown",
   "id": "04536091",
   "metadata": {},
   "source": [
    "### Raw Strings (r\"string\")\n",
    "\n",
    "Raw strings, denoted by r\"string\", are used to treat backslashes as literal characters, ignoring their escape sequence behavior. This is particularly useful when working with file paths or regular expressions.\n",
    "\n",
    "```python\n",
    "path = r'C:\\Users\\Alice\\Documents'\n",
    "regex = r'\\d{3}-\\d{2}-\\d{4}'\n",
    "```\n",
    "\n",
    "In the path variable, the backslashes are treated as literal characters, making it suitable for file paths."
   ]
  },
  {
   "cell_type": "markdown",
   "id": "9213d63a",
   "metadata": {},
   "source": [
    "---\n",
    "### Exercises\n",
    "\n",
    "1. Create a string that represents a Windows file path (e.g., C:\\Users\\YourName\\Documents\\File.txt) using both regular and raw strings. Compare the two representations."
   ]
  },
  {
   "cell_type": "code",
   "execution_count": null,
   "id": "9436763a",
   "metadata": {},
   "outputs": [],
   "source": []
  },
  {
   "cell_type": "markdown",
   "id": "a0fd5379",
   "metadata": {},
   "source": [
    "2. Create a multi-line string that displays the following information about a book:\n",
    "\n",
    "Title: \"Python Programming\"\\\n",
    "Author: John Smith\\\n",
    "Price: $29.99\n",
    "\n",
    "Use escape sequences for double quotes and the dollar sign."
   ]
  },
  {
   "cell_type": "code",
   "execution_count": null,
   "id": "172be6e8",
   "metadata": {},
   "outputs": [],
   "source": []
  },
  {
   "cell_type": "markdown",
   "id": "aac3c5e2-c709-44ce-933d-39e304ace9b4",
   "metadata": {},
   "source": [
    "---\n",
    "<a id=\"string_exercises\"></a>\n",
    "## String Operations Exercises\n",
    "\n",
    "\n",
    "These exercises focus on string manipulation will help you practice and reinforce your skills in working with strings.\n",
    "\n",
    "1. **Reverse a String**: Write a Python program that takes a string as input and prints the reverse of the string. Use slicing to achieve this without loops or conditionals."
   ]
  },
  {
   "cell_type": "code",
   "execution_count": null,
   "id": "90e271da-d983-4f99-a2f7-f7b8da244dba",
   "metadata": {},
   "outputs": [],
   "source": []
  },
  {
   "cell_type": "markdown",
   "id": "ce5f9584",
   "metadata": {},
   "source": [
    "2. **Count Vowels and Consonants**: Create a program that counts the number of vowels (a, e, i, o, u) and consonants in a given string. Use the `str.count()` method to count vowels and calculate the consonant count without loops or conditionals."
   ]
  },
  {
   "cell_type": "code",
   "execution_count": null,
   "id": "5f27f8a1",
   "metadata": {},
   "outputs": [],
   "source": []
  },
  {
   "cell_type": "markdown",
   "id": "bcb6654d",
   "metadata": {},
   "source": [
    "3. **Palindrome Checker**: Write a program that checks if a given string is a palindrome, which means it reads the same forwards and backwards. Use string slicing to reverse the string and check if it's equal to the original."
   ]
  },
  {
   "cell_type": "code",
   "execution_count": null,
   "id": "db5feea5",
   "metadata": {},
   "outputs": [],
   "source": []
  },
  {
   "cell_type": "markdown",
   "id": "236088fd",
   "metadata": {},
   "source": [
    "4. **Word Capitalization**: Write a program that takes a sentence as input and capitalizes the first letter of each word. Use the `str.title()` method to achieve this without loops or conditionals."
   ]
  },
  {
   "cell_type": "code",
   "execution_count": null,
   "id": "0f2e9ebc",
   "metadata": {},
   "outputs": [],
   "source": []
  },
  {
   "cell_type": "markdown",
   "id": "dc8deda9",
   "metadata": {},
   "source": [
    "5. **Word Reversal**: Create a program that takes a sentence and reverses the order of words. Use the `str.split()` and `str.join()` methods to reverse the words without loops or conditionals."
   ]
  },
  {
   "cell_type": "code",
   "execution_count": null,
   "id": "d21a7883",
   "metadata": {},
   "outputs": [],
   "source": []
  },
  {
   "cell_type": "markdown",
   "id": "ce2a2e77",
   "metadata": {},
   "source": [
    "---\n",
    "\n",
    "And there you have it: **Strings**\n",
    "\n",
    "Next we are going to look at two fundamental concepts in all of programming: Loops and Conditionals."
   ]
  },
  {
   "cell_type": "code",
   "execution_count": null,
   "id": "57f7e349",
   "metadata": {},
   "outputs": [],
   "source": []
  }
 ],
 "metadata": {
  "kernelspec": {
   "display_name": "Python 3 (ipykernel)",
   "language": "python",
   "name": "python3"
  },
  "language_info": {
   "codemirror_mode": {
    "name": "ipython",
    "version": 3
   },
   "file_extension": ".py",
   "mimetype": "text/x-python",
   "name": "python",
   "nbconvert_exporter": "python",
   "pygments_lexer": "ipython3",
   "version": "3.11.5"
  }
 },
 "nbformat": 4,
 "nbformat_minor": 5
}
