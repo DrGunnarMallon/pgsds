{
 "cells": [
  {
   "cell_type": "markdown",
   "id": "35f1249a-2ed8-4027-a688-d454640c5f4f",
   "metadata": {
    "jp-MarkdownHeadingCollapsed": true
   },
   "source": [
    "<img src=\"images/notebook1_header.png\" width=\"1024\" alt=\"Python for Geospatial Data Science\" style=\"border-radius:10px\"/>\n",
    "\n",
    "\n",
    "**Dr Gunnar Mallon** (g.mallon@rug.nl), *Department of Cultural Geography (Faculty of Spatial Science)*, *University of Groningen*\n",
    "\n",
    "---\n",
    "\n",
    "***Table of Contents***\n",
    "1. [General Information](#general_information)\n",
    "2. [Getting Help](#getting_help)\n",
    "3. [Comments in Python](#comments_in_python)\n",
    "4. [Markdown](#markdown)\n"
   ]
  },
  {
   "cell_type": "markdown",
   "id": "3b87a84a-15ff-4a0b-83ee-cdaddcc91336",
   "metadata": {
    "jp-MarkdownHeadingCollapsed": true
   },
   "source": [
    "## General information\n",
    "<a id=\"general_information\"></a>\n",
    "\n",
    "This is a [Jupyter Notebooks](https://jupyter.org/). This particular notebook is designed to introduce you to a few of the basic concepts of programming in Python. The contents of this document are divided into cells, which can contain Markdown-formatted text, Python code, or raw text. You can execute a snippet of code in a cell by pressing **Shift-Enter**. \n",
    "\n",
    "You can create new cells above or below existing cells or delete an existing cell by clicking on the left side of the cell to select it and the using \"a\" (above) or \"b\" (below) to create new cells. If you select a cell and press \"x\", you will delete it (so be careful!)"
   ]
  },
  {
   "cell_type": "markdown",
   "id": "28e82eb1-123d-480a-96fb-1360b8d98303",
   "metadata": {},
   "source": [
    "When learning a new programming language, it is customary to first learn how to print 'Hello World!'. While a bit quirky, it is a useful first step to know how to send input to the program and where to see the output. In Python, you can use the built-in ``print()`` function to print the greeting ``\"Hello World!\"``\n",
    "\n",
    "type the following command in the empty cell below and press **Shift-Enter** to execute the cell.\n",
    "\n",
    "``print(\"Hello World!\")``\n",
    "\n",
    "From now on, you can always press **Shift-Enter** to execute your current cell 🚀"
   ]
  },
  {
   "cell_type": "code",
   "execution_count": null,
   "id": "f3a2032f-9ce1-4b4f-8d80-497875fdb663",
   "metadata": {},
   "outputs": [],
   "source": []
  },
  {
   "cell_type": "markdown",
   "id": "6a325fe5-d42c-4f8b-8547-64d905a4d53f",
   "metadata": {},
   "source": [
    "How did that go? If everything went well, you should have seen \"Hello World!\" printed below the cell. This is the cell output. If it worked, you are all set to embark on your Python journey.\n",
    "\n",
    "How cool is this? You have now executed your first bit of code in Python and are ready for the wonderful world of coding and programming! 🔥\n",
    "\n",
    "If you did not see *Hello World!* printed in the cell above, then try retracing your steps and making sure that you didn't add any extra characters."
   ]
  },
  {
   "cell_type": "markdown",
   "id": "0080f192-9d74-498a-94a8-2356aab1bdce",
   "metadata": {},
   "source": [
    "## Getting help\n",
    "<a id=\"getting_help\"></a>\n",
    "\n",
    "If you are stuck with your programming there are many ways that you can get help.\n",
    "\n",
    "Python has inbuilt help functions, such as the ? function. If you were unfamiliar with the syntax of the ``print()`` function, you can simply type ``? print`` and execute the cell (remember, Shift-Enter) and you'll get a little help text on the print function.\n",
    "\n",
    "Try it out yourself. In the cell below, type ```? print``` and execute the cell."
   ]
  },
  {
   "cell_type": "code",
   "execution_count": null,
   "id": "47d63793-8e2a-4ac5-98b8-a103a7b492c6",
   "metadata": {},
   "outputs": [],
   "source": []
  },
  {
   "cell_type": "markdown",
   "id": "8398fcc7-86da-4668-ad24-16d1a31b7945",
   "metadata": {},
   "source": [
    "Now, this might look like a lot of gobblygook, but if you break it down, it's quite easy.\n",
    "\n",
    "The help text tells us that the print function takes a series of arguments. In our ``Hello World!`` example, this was simply the text \"Hello World!\". As you will discover later in the course, you can have a whole range of items to be printed here.\n",
    "\n",
    "Next, we see that there is a whole range of other parameters that you can give the print function, such as the separator character, what to do at the end of the line, and some technical things that you don't have to worry about now.\n",
    "\n",
    "In the ``Hello World!`` example, we left all of these extra parameters blank. And that's okay. But in case you wanted to change the default behaviour of the ``print()`` function, this is where you would get information about it.\n",
    "\n",
    "Alternative ways to trigger the help function are\n",
    "\n",
    "```print?``` - this puts the question mark after the name of the function instead of before it\n",
    "\n",
    "```help(print)``` - this gives slightly different output, but it gives you all of the important information.\n",
    "\n",
    "Go on. Try these out yourself. Some common functions in Python are **print**, **input**, **range**, **sorted**, and **len**. Have a go at getting information and help on these in the cell below.\n",
    "\n",
    "**Note**: you can execute more than one command in a cell. So try to get more than one help command in the same cell."
   ]
  },
  {
   "cell_type": "code",
   "execution_count": null,
   "id": "c8db59f7-d65f-4c09-9530-f992b59a0485",
   "metadata": {},
   "outputs": [],
   "source": []
  },
  {
   "cell_type": "markdown",
   "id": "18f7b819-7908-4285-9fea-84ef1b6b4d9d",
   "metadata": {},
   "source": [
    "### Other places to get help\n",
    "\n",
    "It goes without say that there are many fantastic tools out there to get help when you are stuck programming.\n",
    "\n",
    "#### [Stack Overflow](https://stackoverflow.com)\n",
    "\n",
    "One of the most used sites for any sort of programming help is called Stack Overflow (this is a term from memory management in case you really wanted to know). Stack Overflow is a great resource for solutions to problems. It's also a great place to ask for help, though Generative AI is slowing replacing Stack Overflow.\n",
    "\n",
    "#### [ChatGPT](https://chat.openai.com) | [Bard](https://bard.google.com) | ...\n",
    "\n",
    "Generative AIs, especially ChatGPT, are a fantastic resource for any Python-related questions. You can easily query these generative AI platforms to explain concepts or functions to you. One of the best uses for the platforms is to help with debugging.\n",
    "\n",
    "When you come up against a problem, try to solve it first (this is how you learn!). If, after extensive trying, you still can't figure out what is wrong with the code, ask for help, or ask the AI. Often the AI will immediately pinpoint the problem.\n",
    "\n",
    "**Note**: Do not rely on the AI to write the code for you! It can contain bugs and completely defeats the purpose of taking this course. If you blindly trust the AI, you will not learn how to program yourself. AI tools are a great aid (like a senior developer), but you still need to do the learning and we all have to use AI tools responsibly."
   ]
  },
  {
   "cell_type": "markdown",
   "id": "2816d2bb-7b18-4925-acca-dce0af82479f",
   "metadata": {},
   "source": [
    "### Going beyond this course\n",
    "\n",
    "Programming is all about trial and error (learning from debugging your code) and repetition. It's a constant problem-solving endeavour.\n",
    "\n",
    "If you really want to get good at programming or this course has inspired you to dive further into Python, I highly recommend that you check out a website called **[CodeWars](https://codewars.com)**. \n",
    "\n",
    "**[CodeWars](https://codewars.com)** (no affiliation) presents you with seemingly unlimited puzzles and problems to solve that are constantly adjusted to your level or programming. It's a free website, and if you're serious about improving your programming, you should definitely check it out."
   ]
  },
  {
   "cell_type": "markdown",
   "id": "a634ee8f-7141-4120-b944-80e4d4db966a",
   "metadata": {},
   "source": [
    "## Comments in Python\n",
    "<a id=\"comments_in_python\"></a>"
   ]
  },
  {
   "cell_type": "markdown",
   "id": "f72e93ad-f978-446e-a1bd-9bd282960f9f",
   "metadata": {},
   "source": [
    "Commenting your code is a vital aspect of programming. Comments allow developers to leave notes for themselves, colleagues, or future contributos, and can explain the purpose, functionality, or intricacies of a code segment. While the Python interpreter ignores comments when executing a script, they can be invaluable for human readers.\n",
    "\n",
    "\n",
    "### Types of Comments in Python\n",
    "\n",
    "Python provides several ways to add comments to your code:\n",
    "\n",
    "#### 1. Single-line comments\n",
    "\n",
    "These are the most common types of comment. You can add a single-line comment using the `#` symbol. Everything after this symbol (on the same line) will be considered a comment and won't be executed.\n",
    "\n",
    "```python\n",
    "# This is a single-line comment\n",
    "print(\"This is not a comment.\")  # This is a comment \n",
    "```\n",
    "\n",
    "Now it's time for you to try it yourself. In the cell below write a comment and then execute the cell. See if the outcome is what you thought it would beinline comment"
   ]
  },
  {
   "cell_type": "code",
   "execution_count": null,
   "id": "f2be5759-98a9-43f8-988c-1875f7aa5c72",
   "metadata": {},
   "outputs": [],
   "source": []
  },
  {
   "cell_type": "markdown",
   "id": "8f4129ae-9023-4abf-beb8-9592be959222",
   "metadata": {},
   "source": [
    "### 2. Multi-line comments\n",
    "\n",
    "While Python doesn’t have explicit support for multi-line comments, programmers use a workaround by employing multi-line strings as comments. These are typically done using triple quots.)\n",
    "\n",
    "```python\n",
    "'''\n",
    "This is a\n",
    "multi-line\n",
    "comment.\n",
    "'''\n",
    "\n",
    "\"\"\"\n",
    "Another example of a\n",
    "multi-line\n",
    "comment.\n",
    "\"\"\"\n",
    "\n",
    "print(\"This is not a comment.\")\n",
    "```\n",
    "\n",
    "**Note**: Even though using triple quotes as multi-line comments is a common practice, they are technically still strings. Therefore, if not assigned to a variable or used in a manner where the string is processed (e.g., as a docstring), it will simply remain in the code without any impact.\n",
    "\n",
    "Go on, try it yourself. Just like in the previous example, create a multi-line comment alongside a print statement and execute the cell."
   ]
  },
  {
   "cell_type": "code",
   "execution_count": null,
   "id": "65cea829-a6bb-48e2-87d0-4b7854159d09",
   "metadata": {},
   "outputs": [],
   "source": []
  },
  {
   "cell_type": "markdown",
   "id": "6a4b1f13",
   "metadata": {},
   "source": [
    "### Why is Commenting Important?\n",
    "\n",
    "* **Code Understanding**: Comments help developers understand the purpose and functionality of specific code segments, especially when revisiting code after a long interval.\n",
    "\n",
    "* **Collaboration**: When working on team projects, comments ensure that colleagues can grasp the function and intention of your code, reducing the time required to understand it.\n",
    "\n",
    "* **Debugging**: Comments can also be useful for leaving notes or to-do items for debugging or refining code.\n",
    "\n",
    "* **Documentation**: Certain tools extract comments from the code to automatically generate documentation. This is common for library or API development."
   ]
  },
  {
   "cell_type": "markdown",
   "id": "ffddc22f",
   "metadata": {},
   "source": [
    "### Best Practices\n",
    "\n",
    "* Be Clear and Concise: Ensure your comments are direct and provide clarity. If the comment requires more than a couple of sentences, it might be worth revisiting the code to make it more self-explanatory.\n",
    "\n",
    "* Avoid Redundancy: Avoid comments that state the obvious, e.g., x = 5 # Assigning 5 to x.\n",
    "\n",
    "* Stay Updated: Ensure comments are updated if the code is changed. Outdated comments can be more confusing than no comments at all."
   ]
  },
  {
   "cell_type": "markdown",
   "id": "046576a3",
   "metadata": {},
   "source": [
    "In conclusion, while well-written code should be as self-explanatory as possible, comments are essential for clarification, collaboration, and documentation. Use them wisely!"
   ]
  },
  {
   "cell_type": "markdown",
   "id": "74e729f0",
   "metadata": {},
   "source": [
    "## Markdown\n",
    "<a id=\"markdown\"></a>\n",
    "\n",
    "Markdown is a lightweight markup language with a plain-text-formatting syntax. Its key design goal is readability – that the language be readable as-is, without looking like it's been marked up with tags or formatting instructions, unlike more robust markup languages such as HTML. \n",
    "\n",
    "You can create a markdown cell in Jupyter Notebooks, but selecting \"Markdown\" from the dropdown menu above. Alternatively, you can select a cell, press \"Esc\" and then \"M\" to change it to markdown. Simply double-click the cell to edit it.\n",
    "\n",
    "In Markdown you can define headers, lists, code snippets, pictures, etc..\n",
    "\n",
    "As a matter fact, this entire tutorial is written in markdown. If you double click any of the text cells you can see the markdown language underneath it.\n",
    "\n",
    "For a full list of markdown elements that you can use have a look at the [Markdown Guide - Cheat Sheet](https://www.markdownguide.org/cheat-sheet/).\n",
    "\n",
    "**Now it's up to you**. Have a look through the *cheat sheet* and then have a **play around** in the cells below. You will soon realise that programming is all about learning a new concept and then playing around with it until it becomes second nature."
   ]
  },
  {
   "cell_type": "code",
   "execution_count": null,
   "id": "fb315892",
   "metadata": {},
   "outputs": [],
   "source": []
  },
  {
   "cell_type": "code",
   "execution_count": null,
   "id": "37c70b77",
   "metadata": {},
   "outputs": [],
   "source": []
  },
  {
   "cell_type": "code",
   "execution_count": null,
   "id": "2816b4d1",
   "metadata": {},
   "outputs": [],
   "source": []
  },
  {
   "cell_type": "markdown",
   "id": "47628f52",
   "metadata": {},
   "source": [
    "## What's next?\n",
    "\n",
    "Well done on making it so far. If you have followed all the steps and played around with commenting, printing, markdown, and getting help, you are one step closer to mastering Python.\n",
    "\n",
    "There are many useful resources out there that you might want to refer to throughout the Geospatial Data Science course:\n",
    "\n",
    "* [The Official Python Documentation](https://www.python.org/doc/)\n",
    "\n",
    "* [Jupyter.org](https://jupyter.org/)\n",
    "\n",
    "* [CodeWars](https://www.codewars.com/?language=python)\n",
    "\n",
    "\n",
    "**When you're all set**, it is now time to move on to **[Notebook 2: Variables](./02Variables.ipynb)** and learn about how to store and work with data in Python."
   ]
  },
  {
   "cell_type": "code",
   "execution_count": null,
   "id": "048a9ef6",
   "metadata": {},
   "outputs": [],
   "source": []
  }
 ],
 "metadata": {
  "kernelspec": {
   "display_name": "Python 3 (ipykernel)",
   "language": "python",
   "name": "python3"
  },
  "language_info": {
   "codemirror_mode": {
    "name": "ipython",
    "version": 3
   },
   "file_extension": ".py",
   "mimetype": "text/x-python",
   "name": "python",
   "nbconvert_exporter": "python",
   "pygments_lexer": "ipython3",
   "version": "3.11.5"
  }
 },
 "nbformat": 4,
 "nbformat_minor": 5
}
