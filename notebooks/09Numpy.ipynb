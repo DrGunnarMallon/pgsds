{
 "cells": [
  {
   "cell_type": "markdown",
   "id": "7ac0c709",
   "metadata": {},
   "source": [
    "<img src=\"images/notebook9_header.png\" width=\"1024\" alt=\"Python for Geospatial Data Science\" style=\"border-radius:10px\"/>\n",
    "\n",
    "**Dr Gunnar Mallon** (g.mallon@rug.nl), *Department of Cultural Geography (Faculty of Spatial Science)*, *University of Groningen*\n",
    "\n",
    "---"
   ]
  },
  {
   "cell_type": "markdown",
   "id": "73d4ad58",
   "metadata": {},
   "source": [
    "NumPy is a fundamental Python library for scientific computing, which is crucial for geospatial data analysis. We will explore what NumPy is and why it is important for working with geospatial data.\n",
    "\n",
    "It stands for Numerical Python and is a powerful library in Python for performing numerical computations and manipulating large, multi-dimensional arrays and matrices. It provides high-performance mathematical functions and tools for efficiently working with numerical data.\n",
    "\n",
    "### Why is NumPy important for geospatial data analysis?\n",
    "\n",
    "NumPy is particularly important for geospatial data analysis due to its ability to handle and process large, multi-dimensional arrays efficiently. Geospatial data often consists of multiple dimensions such as latitude, longitude, elevation, and time. NumPy provides a convenient and efficient way to store, manipulate, and analyze these multi-dimensional arrays.\n",
    "\n",
    "Some key reasons why NumPy is important for geospatial data analysis are:\n",
    "\n",
    "1. **Efficient storage and processing**: NumPy arrays occupy less memory than regular Python lists and allow for faster processing of large datasets.\n",
    "\n",
    "2. **Vectorized operations**: NumPy allows you to perform mathematical operations on entire arrays instead of individual elements, significantly improving the performance of computations.\n",
    "\n",
    "3. **Integration with other libraries**: NumPy is the foundation for many other scientific libraries in Python, such as Pandas, Matplotlib, and SciPy. Understanding NumPy is essential for effectively using these libraries in geospatial data analysis.\n",
    "\n",
    "### Installation and setup\n",
    "\n",
    "Before we can start working with NumPy, we need to install it and set it up in our Python environment. Here are the steps to install NumPy:\n",
    "\n",
    "1. **Install NumPy via conda**: Open your command prompt or terminal and run the following command:\n",
    "\n",
    "```\n",
    "conda install numpy\n",
    "```\n",
    "\n",
    "2. **Verify the installation**: Once the installation is complete, open a Jupyter Notebook and import the NumPy module using the following command:\n",
    "\n",
    "```python\n",
    "import numpy as np\n",
    "```\n",
    "\n",
    "If no errors occur, the installation was successful.\n",
    "\n",
    "\n",
    "Now that we have NumPy installed and set up, we can move on to learning about its core features and how it can be used in geospatial data analysis."
   ]
  },
  {
   "cell_type": "markdown",
   "id": "109aed6b",
   "metadata": {},
   "source": [
    "## NumPy Arrays\n",
    "\n",
    "To work with geospatial data, we often need to store large amounts of numeric data efficiently. NumPy arrays provide an efficient way to store and manipulate numerical data.\n",
    "\n",
    "#### np.array()\n",
    "\n",
    "The most basic way to create a NumPy array is by using the `np.array()` function. It takes a Python list or nested lists as input and returns a NumPy array.\n",
    "\n",
    "```python\n",
    "import numpy as np\n",
    "\n",
    "# Creating a 1D array\n",
    "array1d = np.array( [1, 2, 3, 4, 5] )\n",
    "print(array1d)\n",
    "# Output: [1 2 3 4 5]\n",
    "\n",
    "# Creating a 2D array\n",
    "array2d = np.array( [ [1, 2, 3], [4, 5, 6], [7, 8, 9] ] )\n",
    "print(array2d)\n",
    "# Output:\n",
    "# [[1 2 3]\n",
    "#  [4 5 6]\n",
    "#  [7 8 9]]\n",
    "```"
   ]
  },
  {
   "cell_type": "code",
   "execution_count": null,
   "id": "21eaabbe",
   "metadata": {},
   "outputs": [],
   "source": []
  },
  {
   "cell_type": "markdown",
   "id": "78555e0d",
   "metadata": {},
   "source": [
    "#### np.zeros()\n",
    "\n",
    "The `np.zeros()` function creates an array filled with zeros. It takes the shape of the desired array as a parameter.\n",
    "\n",
    "```python\n",
    "zeros_arr = np.zeros((3, 3))\n",
    "print(zeros_arr)\n",
    "# Output:\n",
    "# [[0. 0. 0.]\n",
    "#  [0. 0. 0.]\n",
    "#  [0. 0. 0.]]\n",
    "```\n"
   ]
  },
  {
   "cell_type": "code",
   "execution_count": null,
   "id": "0774f58b",
   "metadata": {},
   "outputs": [],
   "source": []
  },
  {
   "cell_type": "markdown",
   "id": "fe460b09",
   "metadata": {},
   "source": [
    "#### np.ones()\n",
    "\n",
    "Similarly, the `np.ones()` function creates an array filled with ones.\n",
    "\n",
    "```python\n",
    "ones_arr = np.ones((2, 4))\n",
    "print(ones_arr)\n",
    "# Output:\n",
    "# [[1. 1. 1. 1.]\n",
    "#  [1. 1. 1. 1.]]\n",
    "```"
   ]
  },
  {
   "cell_type": "code",
   "execution_count": null,
   "id": "5cad13d3",
   "metadata": {},
   "outputs": [],
   "source": []
  },
  {
   "cell_type": "markdown",
   "id": "47aeb1d5",
   "metadata": {},
   "source": [
    "#### np.linspace()\n",
    "\n",
    "The `np.linspace()` function creates an array of evenly spaced values over a specified range. It takes the start, end, and number of points as parameters.\n",
    "\n",
    "```python\n",
    "lin_arr = np.linspace(0, 10, 5)\n",
    "print(lin_arr)\n",
    "# Output: [ 0.   2.5  5.   7.5 10. ]\n",
    "```"
   ]
  },
  {
   "cell_type": "code",
   "execution_count": null,
   "id": "bf49aa8e",
   "metadata": {},
   "outputs": [],
   "source": []
  },
  {
   "cell_type": "markdown",
   "id": "01c6003d",
   "metadata": {},
   "source": [
    "#### np.arange()\n",
    "\n",
    "The `np.arange()` function creates an array with regularly spaced values between a start and end value, with a specified step size.\n",
    "\n",
    "```python\n",
    "range_arr = np.arange(0, 10, 2)\n",
    "print(range_arr)\n",
    "# Output: [0 2 4 6 8]\n",
    "```"
   ]
  },
  {
   "cell_type": "code",
   "execution_count": null,
   "id": "df2252aa",
   "metadata": {},
   "outputs": [],
   "source": []
  },
  {
   "cell_type": "markdown",
   "id": "ab1eabce",
   "metadata": {},
   "source": [
    "### Accessing and Modifying Elements\n",
    "\n",
    "Once we have created NumPy arrays, we can access and modify their elements using various techniques.\n",
    "\n",
    "#### Indexing and Slicing\n",
    "\n",
    "NumPy arrays support multi-dimensional indexing and slicing. We can access individual elements by providing their indices or ranges of indices.\n",
    "\n",
    "```python\n",
    "arr = np.array([[1, 2, 3], [4, 5, 6], [7, 8, 9]])\n",
    "\n",
    "print(arr[0, 1])\n",
    "# Output: 2\n",
    "\n",
    "print(arr[:2, 1:])\n",
    "# Output:\n",
    "# [[2 3]\n",
    "#  [5 6]]\n",
    "```\n",
    "\n",
    "If you are having trouble figuring this one out, please just ask!"
   ]
  },
  {
   "cell_type": "code",
   "execution_count": null,
   "id": "a221ffba",
   "metadata": {},
   "outputs": [],
   "source": []
  },
  {
   "cell_type": "markdown",
   "id": "29737862",
   "metadata": {},
   "source": [
    "#### Broadcasting\n",
    "\n",
    "Broadcasting allows us to perform mathematical operations on arrays with different shapes and dimensions. When operating on arrays with different shapes, NumPy automatically broadcasts the smaller array to match the shape of the larger array.\n",
    "\n",
    "```python\n",
    "arr = np.array([1, 2, 3, 4, 5])\n",
    "\n",
    "print(arr + 2)\n",
    "# Output: [3 4 5 6 7]\n",
    "```"
   ]
  },
  {
   "cell_type": "code",
   "execution_count": null,
   "id": "4fe036fa",
   "metadata": {},
   "outputs": [],
   "source": []
  },
  {
   "cell_type": "markdown",
   "id": "d2a709ab",
   "metadata": {},
   "source": [
    "### Boolean Indexing\n",
    "\n",
    "We can use Boolean indexing to filter arrays based on specific conditions. We create a Boolean array by applying a condition to an existing array, and then use that Boolean array to index the original array.\n",
    "\n",
    "```python\n",
    "arr = np.array([10, 15, 20, 25, 30])\n",
    "\n",
    "condition = (arr > 20)\n",
    "filtered_arr = arr[condition]\n",
    "\n",
    "print(filtered_arr)\n",
    "# Output: [25 30]\n",
    "```"
   ]
  },
  {
   "cell_type": "code",
   "execution_count": null,
   "id": "cdf12b41",
   "metadata": {},
   "outputs": [],
   "source": []
  },
  {
   "cell_type": "markdown",
   "id": "672c8b3f",
   "metadata": {},
   "source": [
    "---\n",
    "## 🚀 Exercise\n",
    "\n",
    "1. Create a NumPy array of integers from 1 to 20. Use boolean indexing to create a new array containing only the even numbers from the original array."
   ]
  },
  {
   "cell_type": "code",
   "execution_count": null,
   "id": "cf0619d3",
   "metadata": {},
   "outputs": [],
   "source": []
  },
  {
   "cell_type": "markdown",
   "id": "0516a848",
   "metadata": {},
   "source": [
    "---\n",
    "### Array Shapes and Dimensions\n",
    "\n",
    "NumPy provides useful functions to determine the shape and dimensions of arrays.\n",
    "\n",
    "#### Shape Attribute\n",
    "\n",
    "The `shape` attribute returns the dimensions of an array.\n",
    "\n",
    "```python\n",
    "arr = np.array([[1, 2, 3], [4, 5, 6]])\n",
    "\n",
    "print(arr.shape)\n",
    "# Output: (2, 3)\n",
    "```\n"
   ]
  },
  {
   "cell_type": "code",
   "execution_count": null,
   "id": "a19d5502",
   "metadata": {},
   "outputs": [],
   "source": []
  },
  {
   "cell_type": "markdown",
   "id": "d3fef694",
   "metadata": {},
   "source": [
    "#### Reshaping Arrays\n",
    "\n",
    "We can reshape arrays using the `reshape()` function. This function returns a new array with a modified shape, without changing the original array.\n",
    "\n",
    "```python\n",
    "arr = np.array([1, 2, 3, 4, 5, 6])\n",
    "\n",
    "reshaped_arr = arr.reshape(2, 3)\n",
    "print(reshaped_arr)\n",
    "# Output:\n",
    "# [[1 2 3]\n",
    "#  [4 5 6]]\n",
    "```"
   ]
  },
  {
   "cell_type": "code",
   "execution_count": null,
   "id": "ece3c4c9",
   "metadata": {},
   "outputs": [],
   "source": []
  },
  {
   "cell_type": "markdown",
   "id": "ee0ec05f",
   "metadata": {},
   "source": [
    "#### Transposing Arrays\n",
    "\n",
    "The `transpose()` function swaps the dimensions of an array.\n",
    "\n",
    "```python\n",
    "arr = np.array([[1, 2, 3], [4, 5, 6]])\n",
    "\n",
    "transposed_arr = arr.transpose()\n",
    "print(transposed_arr)\n",
    "# Output:\n",
    "# [[1 4]\n",
    "#  [2 5]\n",
    "#  [3 6]]\n",
    "```"
   ]
  },
  {
   "cell_type": "code",
   "execution_count": null,
   "id": "d2c7635b",
   "metadata": {},
   "outputs": [],
   "source": []
  },
  {
   "cell_type": "markdown",
   "id": "edfd3dba",
   "metadata": {},
   "source": [
    "---\n",
    "## 🚀 Exercises\n",
    "\n",
    "1. Create a 1D NumPy array containing the numbers from 0 to 9.\n"
   ]
  },
  {
   "cell_type": "code",
   "execution_count": null,
   "id": "62b1f728",
   "metadata": {},
   "outputs": [],
   "source": []
  },
  {
   "cell_type": "markdown",
   "id": "89e48daa",
   "metadata": {},
   "source": [
    "2. Create a 2D NumPy array of shape (3, 3) filled with random integers between 0 and 100.\n"
   ]
  },
  {
   "cell_type": "code",
   "execution_count": null,
   "id": "6882e336",
   "metadata": {},
   "outputs": [],
   "source": []
  },
  {
   "cell_type": "markdown",
   "id": "f55caf8e",
   "metadata": {},
   "source": [
    "3. Access the element at index (1, 2) of the above array."
   ]
  },
  {
   "cell_type": "code",
   "execution_count": null,
   "id": "66805e16",
   "metadata": {},
   "outputs": [],
   "source": []
  },
  {
   "cell_type": "markdown",
   "id": "a7dde04f",
   "metadata": {},
   "source": [
    "4. Reshape the array from exercise 2 to have shape (9, 1)."
   ]
  },
  {
   "cell_type": "code",
   "execution_count": null,
   "id": "7eaa905f",
   "metadata": {},
   "outputs": [],
   "source": []
  },
  {
   "cell_type": "markdown",
   "id": "71b67910",
   "metadata": {},
   "source": [
    "5. Perform element-wise multiplication between two NumPy arrays of shapes (2, 3) and (3, 2)."
   ]
  },
  {
   "cell_type": "code",
   "execution_count": null,
   "id": "238dfe4c",
   "metadata": {},
   "outputs": [],
   "source": []
  },
  {
   "cell_type": "markdown",
   "id": "8d1d7d8a",
   "metadata": {},
   "source": [
    "---\n",
    "## Basic Array Operations\n",
    "\n",
    "Numpy is a powerful Python library that provides support for large, multi-dimensional arrays and matrices of numerical data, as well as a large collection of mathematical functions to operate on these arrays. In this section, we will explore some basic operations that can be performed on numpy arrays, with a focus on geospatial data.\n",
    "\n",
    "### Element-wise operations\n",
    "\n",
    "Element-wise operations are operations that are **performed on each element of an array individually**. Some common element-wise operations in numpy include arithmetic operations, mathematical functions, and statistical functions.\n",
    "\n",
    "#### Arithmetic operations\n",
    "\n",
    "Numpy supports all basic arithmetic operations such as addition, subtraction, multiplication, and division. These operations can be performed between two arrays or between an array and a scalar value.\n",
    "\n",
    "Example:\n",
    "```python\n",
    "import numpy as np\n",
    "\n",
    "# create two arrays\n",
    "a = np.array([1, 2, 3])\n",
    "b = np.array([4, 5, 6])\n",
    "\n",
    "# perform arithmetic operations\n",
    "c = a + b  # element-wise addition\n",
    "d = a - b  # element-wise subtraction\n",
    "e = a * b  # element-wise multiplication\n",
    "f = a / b  # element-wise division\n",
    "\n",
    "print(c)  # [5 7 9]\n",
    "print(d)  # [-3 -3 -3]\n",
    "print(e)  # [4 10 18]\n",
    "print(f)  # [0.25 0.4  0.5]\n",
    "```\n"
   ]
  },
  {
   "cell_type": "code",
   "execution_count": null,
   "id": "a4719ada",
   "metadata": {},
   "outputs": [],
   "source": []
  },
  {
   "cell_type": "markdown",
   "id": "5af8f104",
   "metadata": {},
   "source": [
    "#### Mathematical functions\n",
    "\n",
    "Some common mathematical functions include `sqrt`, `exp`, `log`, `sin`, `cos`, and `tan`.\n",
    "\n",
    "Example:\n",
    "```python\n",
    "import numpy as np\n",
    "\n",
    "# create an array\n",
    "a = np.array([1, 2, 3])\n",
    "\n",
    "# apply mathematical functions\n",
    "b = np.sqrt(a)  # element-wise square root\n",
    "c = np.exp(a)  # element-wise exponential\n",
    "d = np.log(a)  # element-wise natural logarithm\n",
    "e = np.sin(a)  # element-wise sine function\n",
    "\n",
    "print(b)  # [1.        1.41421356 1.73205081]\n",
    "print(c)  # [ 2.71828183  7.3890561  20.08553692]\n",
    "print(d)  # [0.         0.69314718 1.09861229]\n",
    "print(e)  # [0.84147098 0.90929743 0.14112001]\n",
    "```"
   ]
  },
  {
   "cell_type": "code",
   "execution_count": null,
   "id": "7ba1bd49",
   "metadata": {},
   "outputs": [],
   "source": []
  },
  {
   "cell_type": "markdown",
   "id": "82363568",
   "metadata": {},
   "source": [
    "#### Array operations with scalars\n",
    "\n",
    "Numpy allows for easy element-wise operations between arrays and scalar values. When an arithmetic operation is performed between an array and a scalar, the scalar value is broadcasted to match the shape of the array, and the operation is then performed element-wise.\n",
    "\n",
    "Example:\n",
    "```python\n",
    "import numpy as np\n",
    "\n",
    "# create an array\n",
    "a = np.array([1, 2, 3])\n",
    "\n",
    "# perform array operations with a scalar value\n",
    "b = a + 5  # element-wise addition\n",
    "c = a * 2  # element-wise multiplication\n",
    "d = a / 3  # element-wise division\n",
    "\n",
    "print(b)  # [6 7 8]\n",
    "print(c)  # [2 4 6]\n",
    "print(d)  # [0.33333333 0.66666667 1.]\n",
    "```"
   ]
  },
  {
   "cell_type": "code",
   "execution_count": null,
   "id": "4c473fd4",
   "metadata": {},
   "outputs": [],
   "source": []
  },
  {
   "cell_type": "markdown",
   "id": "c47a6759",
   "metadata": {},
   "source": [
    "#### Statistical functions\n",
    "\n",
    "Numpy also provides a variety of statistical functions that can be applied element-wise to numpy arrays. Some common statistical functions include `sum`, `mean`, `max`, `min`, `std`, and `var`.\n",
    "\n",
    "Example:\n",
    "```python\n",
    "import numpy as np\n",
    "\n",
    "# create an array\n",
    "a = np.array([[1, 2, 3], [4, 5, 6]])\n",
    "\n",
    "# apply statistical functions\n",
    "b = np.sum(a)  # sum of all elements\n",
    "c = np.mean(a)  # mean of all elements\n",
    "d = np.max(a)  # maximum value\n",
    "e = np.min(a)  # minimum value\n",
    "f = np.std(a)  # standard deviation\n",
    "g = np.var(a)  # variance\n",
    "\n",
    "print(b)  # 21\n",
    "print(c)  # 3.5\n",
    "print(d)  # 6\n",
    "print(e)  # 1\n",
    "print(f)  # 1.707825127659933\n",
    "print(g)  # 2.9166666666666665\n",
    "```"
   ]
  },
  {
   "cell_type": "code",
   "execution_count": null,
   "id": "6c1f6143",
   "metadata": {},
   "outputs": [],
   "source": []
  },
  {
   "cell_type": "markdown",
   "id": "d73f6ec2",
   "metadata": {},
   "source": [
    "---\n",
    "## Exercises:\n",
    "1. Import the NumPy library and create a 2D array of shape (3, 4) with random values."
   ]
  },
  {
   "cell_type": "code",
   "execution_count": null,
   "id": "da8782ed",
   "metadata": {},
   "outputs": [],
   "source": []
  },
  {
   "cell_type": "markdown",
   "id": "ba14abe1",
   "metadata": {},
   "source": [
    "2. Calculate the mean, median, and standard deviation of the array created in exercise 1.\n"
   ]
  },
  {
   "cell_type": "code",
   "execution_count": null,
   "id": "f41e0e44",
   "metadata": {},
   "outputs": [],
   "source": []
  },
  {
   "cell_type": "markdown",
   "id": "65f35122",
   "metadata": {},
   "source": [
    "3. Create a 1D array of shape (10,) with values ranging from 0 to 9 and reshape it to (5, 2).\n"
   ]
  },
  {
   "cell_type": "code",
   "execution_count": null,
   "id": "160c3686",
   "metadata": {},
   "outputs": [],
   "source": []
  },
  {
   "cell_type": "markdown",
   "id": "80da1896",
   "metadata": {},
   "source": [
    "4. Multiply each element of the array created in exercise 3 by 2.\n"
   ]
  },
  {
   "cell_type": "code",
   "execution_count": null,
   "id": "4f673dcc",
   "metadata": {},
   "outputs": [],
   "source": []
  },
  {
   "cell_type": "markdown",
   "id": "4e968f18",
   "metadata": {},
   "source": [
    "5. Create a new 2D array of shape (3, 3) and perform element-wise multiplication with the array created in exercise 3.\n"
   ]
  },
  {
   "cell_type": "code",
   "execution_count": null,
   "id": "f3b3fc87",
   "metadata": {},
   "outputs": [],
   "source": []
  },
  {
   "cell_type": "markdown",
   "id": "dbfe9a61",
   "metadata": {},
   "source": [
    "6. Create a random array of shape (100, 2) using NumPy's random module and calculate the minimum and maximum values for each column.\n"
   ]
  },
  {
   "cell_type": "code",
   "execution_count": null,
   "id": "5af8dcd6",
   "metadata": {},
   "outputs": [],
   "source": []
  },
  {
   "cell_type": "markdown",
   "id": "f6f396ad",
   "metadata": {},
   "source": [
    "## Conclusion and Next Steps\n",
    "\n",
    "### Summary of NumPy's importance in geospatial data analysis:\n",
    "- NumPy is a fundamental library for numerical computing in Python\n",
    "- It provides efficient operations for array manipulation and mathematical computations\n",
    "- NumPy's array object is the foundation for many other libraries used in geospatial data analysis, such as Pandas and Matplotlib\n",
    "- It allows for faster processing and analysis of large geospatial datasets\n",
    "- NumPy's broadcasting feature simplifies computations on arrays of different sizes\n",
    "\n",
    "### Additional resources for further learning:\n",
    "- NumPy official documentation: [https://numpy.org/doc/](https://numpy.org/doc/)\n",
    "- NumPy tutorial on GeeksforGeeks: [https://www.geeksforgeeks.org/python-numpy-module-tutorial/](https://www.geeksforgeeks.org/python-numpy-module-tutorial/)\n",
    "- NumPy tutorial on DataCamp: [https://www.datacamp.com/community/tutorials/python-numpy-tutorial](https://www.datacamp.com/community/tutorials/python-numpy-tutorial)\n",
    "- \"Python for Data Science For Dummies\" by John Paul Mueller and Luca Massaron"
   ]
  },
  {
   "cell_type": "code",
   "execution_count": null,
   "id": "dfd71130",
   "metadata": {},
   "outputs": [],
   "source": []
  }
 ],
 "metadata": {
  "kernelspec": {
   "display_name": "Python 3 (ipykernel)",
   "language": "python",
   "name": "python3"
  },
  "language_info": {
   "codemirror_mode": {
    "name": "ipython",
    "version": 3
   },
   "file_extension": ".py",
   "mimetype": "text/x-python",
   "name": "python",
   "nbconvert_exporter": "python",
   "pygments_lexer": "ipython3",
   "version": "3.11.5"
  }
 },
 "nbformat": 4,
 "nbformat_minor": 5
}
