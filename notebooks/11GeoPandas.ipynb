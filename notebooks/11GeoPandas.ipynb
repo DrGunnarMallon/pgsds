{
 "cells": [
  {
   "cell_type": "markdown",
   "id": "8538e578",
   "metadata": {},
   "source": [
    "<img src=\"images/notebook11_header.png\" width=\"1024\" alt=\"Python for Geospatial Data Science\" style=\"border-radius:10px\"/>\n",
    "\n",
    "**Dr Gunnar Mallon** (g.mallon@rug.nl), *Department of Cultural Geography (Faculty of Spatial Science)*, *University of Groningen*\n",
    "\n",
    "---"
   ]
  },
  {
   "cell_type": "markdown",
   "id": "ee75818b",
   "metadata": {},
   "source": [
    "# Geospatial Data Analysis with GeoPandas\n",
    "\n",
    "We have come to the end of the short introduction to Python for Geospatial Data Science. Well done for making it this far!! Hopefully, you are all excited about your newfound programming skills.\n",
    "\n",
    "In this final section (we left the best for last), we are going to pull together all of what we have covered so far, and apply our knowledge to produce a map visualizing population changes by U.S. state between 2021 and 2022.\n",
    "\n",
    "This file is largely a walk through on how to create cool maps with Python. At the end you will be set a big exercise that will test all your newly learned Python knowledge!"
   ]
  },
  {
   "cell_type": "markdown",
   "id": "898634e9",
   "metadata": {},
   "source": [
    "<img src=\"images/map.png\" width=\"480\" alt=\"Python for Geospatial Data Science\" style=\"border-radius:10px\"/>"
   ]
  },
  {
   "cell_type": "markdown",
   "id": "65be9af2",
   "metadata": {},
   "source": [
    "## Setting Up Our Environment\n",
    "\n",
    "First, ensure that you have downloaded the necessary datasets containing the population changes and the shapefiles delineating state boundaries. You will find these on Brightspace.\n",
    "\n",
    "Make sure your data is organized in a logical folder structure to facilitate easy access. The project structure looks like this:\n",
    "- Jupyter notebook file (this file).\n",
    "- A folder named `population_estimates` with the CSV file of population data.\n",
    "- A folder named `shapefiles` with the respective geographic shapefiles.\n",
    "\n",
    "Now, let's install the libraries necessary for our geospatial analysis if you haven't done so.\n",
    "\n",
    "```\n",
    "!pip install geopandas matplotlib\n",
    "```"
   ]
  },
  {
   "cell_type": "code",
   "execution_count": null,
   "id": "f6c2a281",
   "metadata": {},
   "outputs": [],
   "source": []
  },
  {
   "cell_type": "markdown",
   "id": "011eee24",
   "metadata": {},
   "source": [
    "Next, we\\'ll import the libraries required for our analysis:\n",
    "\n",
    "```python\n",
    "import geopandas as gpd\n",
    "import pandas as pd\n",
    "import matplotlib.pyplot as plt\n",
    "```\n",
    "\n",
    "You will notice two new packages. Matplotlib is a library for plotting diagrams in Python and I'm sure you can guess what Geopandas is."
   ]
  },
  {
   "cell_type": "code",
   "execution_count": null,
   "id": "97a383b1",
   "metadata": {},
   "outputs": [],
   "source": []
  },
  {
   "cell_type": "markdown",
   "id": "33b0c1ea",
   "metadata": {},
   "source": [
    "## Loading and Preparing the Data\n",
    "\n",
    "Let us start by setting up the paths to our CSV data and shapefile.\n",
    "\n",
    "```python\n",
    "data_path = 'population_estimates/NST-EST2022-POPCHG2020_2022.csv'\n",
    "shape_path = 'shapefiles/cv_2018_us_state_500k.shp'\n",
    "```\n",
    "\n",
    "Load the population data into a Pandas DataFrame and examine its contents:\n",
    "\n",
    "\n",
    "```python\n",
    "# Read the csv file into the DataFrame\n",
    "df = pd.read_csv(data_path)\n",
    "```"
   ]
  },
  {
   "cell_type": "code",
   "execution_count": null,
   "id": "e1fff92e",
   "metadata": {},
   "outputs": [],
   "source": []
  },
  {
   "cell_type": "markdown",
   "id": "00e08e80",
   "metadata": {},
   "source": [
    "To have a look at the first few rows of a DataFrame you can use the `DataFrame.head()` method. This is an essential method to have a quick look at a DataFrame. I suggest that after each change to the DataFrame, you have a quick look at it using `head()`.\n",
    "\n",
    "```python\n",
    "\n",
    "# Let's check the first few rows of the DataFrame\n",
    "df.head()\n",
    "```"
   ]
  },
  {
   "cell_type": "code",
   "execution_count": null,
   "id": "930bbe95",
   "metadata": {},
   "outputs": [],
   "source": []
  },
  {
   "cell_type": "markdown",
   "id": "912d09c5",
   "metadata": {},
   "source": [
    "After inspecting the DataFrame, we find that we can drop the column we do not need and rename the others for clarity:\n",
    "\n",
    "```python\n",
    "# DataFrame.drop let's us remove a column from the DataFrame. In this case we're dropping ESTIMATESBASE2020\n",
    "df.drop(columns=['ESTIMATESBASE2020'], inplace=True)\n",
    "\n",
    "# You can rename the columns in your DataFrame but simply setting the DataFrame.columns to new values\n",
    "df.columns = ['State', 'Population_2021', 'Population_2022']\n",
    "```"
   ]
  },
  {
   "cell_type": "code",
   "execution_count": null,
   "id": "3826d061",
   "metadata": {},
   "outputs": [],
   "source": []
  },
  {
   "cell_type": "markdown",
   "id": "ab0dde99",
   "metadata": {},
   "source": [
    "Make sure to have a look at the new DataFrame\n",
    "\n",
    "```python\n",
    "df.head()\n",
    "```"
   ]
  },
  {
   "cell_type": "code",
   "execution_count": null,
   "id": "0fe30e88",
   "metadata": {},
   "outputs": [],
   "source": []
  },
  {
   "cell_type": "markdown",
   "id": "77183df6",
   "metadata": {},
   "source": [
    "The populations are read as strings and if we want to work with them we'll need to convert these to integers by using the `astype(int)` method:\n",
    "\n",
    "```python\n",
    "df['Population_2021'] = df['Population_2021'].astype(int)\n",
    "df['Population_2022'] = df['Population_2022'].astype(int)\n",
    "```"
   ]
  },
  {
   "cell_type": "code",
   "execution_count": null,
   "id": "01c26a49",
   "metadata": {},
   "outputs": [],
   "source": []
  },
  {
   "cell_type": "markdown",
   "id": "0c9e9b95",
   "metadata": {},
   "source": [
    "Next, we'll calculate the population change percentage from 2021 to 2022 and add it as a new column. This will be the data that we are going to plot on the map.\n",
    "\n",
    "```python\n",
    "df['Population_Change'] = ((df['Population_2022'] - df['Population_2021']) / df['Population_2022']) * 100\n",
    "```"
   ]
  },
  {
   "cell_type": "code",
   "execution_count": null,
   "id": "d1adf5f3",
   "metadata": {},
   "outputs": [],
   "source": []
  },
  {
   "cell_type": "markdown",
   "id": "b6d15528",
   "metadata": {},
   "source": [
    "Remember to look at your new DataFrame using `df.head()`"
   ]
  },
  {
   "cell_type": "code",
   "execution_count": null,
   "id": "bb320e09",
   "metadata": {},
   "outputs": [],
   "source": []
  },
  {
   "cell_type": "markdown",
   "id": "16e138ea",
   "metadata": {},
   "source": [
    "## Integrating the Geographic Data\n",
    "\n",
    "With GeoPandas, we can read in our shapefile directly and explore the data:\n",
    "\n",
    "```python\n",
    "shape_data = gpd.read_file(shape_path)\n",
    "shape_data.head()\n",
    "```"
   ]
  },
  {
   "cell_type": "code",
   "execution_count": null,
   "id": "c316acf0",
   "metadata": {},
   "outputs": [],
   "source": []
  },
  {
   "cell_type": "markdown",
   "id": "bdf5feeb",
   "metadata": {},
   "source": [
    "Once we have both the population DataFrame and the geospatial DataFrame, we can merge them. Remember, you looked at this in the Pandas notebook. \n",
    "\n",
    "When you look at the `head()` of both DataFrames, you'll see that the U.S. States are listed under different column names. We could rename the columns, or use the `left_on` and `right_on` parameters.\n",
    "\n",
    "```python\n",
    "shape_data = shape_data.merge(df, left_on='NAME', right_on='State', how='left')\n",
    "```\n",
    "\n",
    "Here we merge the data based on the **NAME** column in the shape_data DataFrame and the **State** column in the df DataFrame. Have a look what the `how='left'` means."
   ]
  },
  {
   "cell_type": "code",
   "execution_count": null,
   "id": "5891d1e5",
   "metadata": {},
   "outputs": [],
   "source": []
  },
  {
   "cell_type": "markdown",
   "id": "b302f2aa",
   "metadata": {},
   "source": [
    "We will then drop any entries with missing geospatial data using the `dropna` method:\n",
    "\n",
    "```python\n",
    "shape_data.dropna(subset=['Population_Change'], inplace=True)\n",
    "```"
   ]
  },
  {
   "cell_type": "code",
   "execution_count": null,
   "id": "41b23c2b",
   "metadata": {},
   "outputs": [],
   "source": []
  },
  {
   "cell_type": "markdown",
   "id": "e6f0437f",
   "metadata": {},
   "source": [
    "## Creating the Map\n",
    "\n",
    "Ok, it's time for the fun 🎉 part. Let's create a cool map of the data! We will focus exclusively on the continental United States. To do that we need to exclude some rows of the island and remote states (Alaska, Hawaii, and Puerto Rico).\n",
    "\n",
    "```python\n",
    "# Exclude territories outside of the continental US, if necessary\n",
    "exclude_territories = ['Alaska', 'Hawaii', 'Puerto Rico'] # Add any other territories if needed\n",
    "shape_data = shape_data[~shape_data['State'].isin(exclude_territories)]\n",
    "```\n",
    "\n",
    "Let's break this down a little. After creating the list of territories to exclude, we have to remove them.\n",
    "\n",
    "First we create a boolean mask of all rows where the **State** is included in the exclude_territories list. This will return `True` for the three territories, Alaska, Hawaii, and Puerto Rico. \n",
    "\n",
    "However, we want to exclude these. So we use the tilde ('~') to signify a **NOT** condition. Essentially this means that we get a `True` value for our boolean mask, when the row's **State** value is **NOT** in the list of exclusion territories.\n",
    "\n",
    "Finally, we use the boolean mask to get the new shape_data."
   ]
  },
  {
   "cell_type": "code",
   "execution_count": null,
   "id": "50e0fef1",
   "metadata": {},
   "outputs": [],
   "source": []
  },
  {
   "cell_type": "markdown",
   "id": "b9ed7bc5",
   "metadata": {},
   "source": [
    "The next part is from the MatplotLib library for creating plots. Don't worry if it looks a little intimidating. We'll break it into small bits.\n",
    "\n",
    "We start by creating a new plot and we call it ax and then show it.\n",
    "\n",
    "```python\n",
    "# Create the plot and store it in 'ax'\n",
    "ax = shape_data.plot(column='Population_Change')\n",
    "\n",
    "# Use Matplotlib to show the plot\n",
    "plt.show()\n",
    "```"
   ]
  },
  {
   "cell_type": "code",
   "execution_count": null,
   "id": "73c9a3f7",
   "metadata": {},
   "outputs": [],
   "source": []
  },
  {
   "cell_type": "markdown",
   "id": "bf4697ab",
   "metadata": {},
   "source": [
    "Pretty cool, wouldn't you say? I think so!\n",
    "\n",
    "You can see that there are differences between the states representing changes in population, but we don't know what these mean. We need a legend! We can achieve this by adding the `legend=True` parameter to the method that creates the plot\n",
    "\n",
    "```python\n",
    "# Create the plot and store it in 'ax'\n",
    "ax = shape_data.plot(\n",
    "    column='Population_Change',\n",
    "    legend=True\n",
    ")\n",
    "\n",
    "# Use Matplotlib to show the plot\n",
    "plt.show()\n",
    "```"
   ]
  },
  {
   "cell_type": "code",
   "execution_count": null,
   "id": "7463ba20",
   "metadata": {},
   "outputs": [],
   "source": []
  },
  {
   "cell_type": "markdown",
   "id": "dad04e2a",
   "metadata": {},
   "source": [
    "So far so good. Now we know what the individual colors mean. But we can still do one better. We can turn off the axes because we are not really interested in longitude and latitude but in population change.\n",
    "\n",
    "We can achieve this by calling `ax.set_axis_off()` before showing the plot.\n",
    "\n",
    "```python\n",
    "# Create the plot and store it in 'ax'\n",
    "ax = shape_data.plot(\n",
    "    column='Population_Change',\n",
    "    legend=True\n",
    ")\n",
    "\n",
    "# Use Matplotlib to show the plot\n",
    "ax.set_axis_off()\n",
    "plt.show()\n",
    "```"
   ]
  },
  {
   "cell_type": "code",
   "execution_count": null,
   "id": "bcfa2079",
   "metadata": {},
   "outputs": [],
   "source": []
  },
  {
   "cell_type": "markdown",
   "id": "d40e8c31",
   "metadata": {},
   "source": [
    "Much better! But we can do better still. Let's do the following changes:\n",
    "\n",
    "- **Change the figure size**: We can use `figsize` for this. Let's make it 15:9\n",
    "- **Reformat the legend**: The legend is a little distracting, let's put it below the map using the `legend_kwds` parameter\n",
    "- **Change the colour scheme**: The colours look pretty cool, but I prefer them to go from Red to Blue rather than Yellow to Blue. We do this with the `cmap` parameter\n",
    "\n",
    "If we implement all those changes we get:\n",
    "\n",
    "```python\n",
    "# Create the plot and store it in 'ax'\n",
    "ax = shape_data.plot(\n",
    "    column='Population_Change',\n",
    "    legend=True,\n",
    "    legend_kwds={\n",
    "        'label': \"Population Change (%)\",\n",
    "        'orientation': \"horizontal\",\n",
    "        'format': \"%0.2f\"\n",
    "    },\n",
    "    figsize=(15, 9),\n",
    "    cmap='RdBu',\n",
    ")\n",
    "\n",
    "# Use Matplotlib to show the plot\n",
    "ax.set_axis_off()\n",
    "plt.show()\n",
    "```"
   ]
  },
  {
   "cell_type": "code",
   "execution_count": null,
   "id": "51c70c7e",
   "metadata": {},
   "outputs": [],
   "source": []
  },
  {
   "cell_type": "markdown",
   "id": "990d669a",
   "metadata": {},
   "source": [
    "One last thing...\n",
    "\n",
    "The states seem to float a little, so let's put lines around them. We can achieve this with the `edgecolor` and `linewidth` methods. Edgecolor sets the colour of the edges of each polygon and linewidth sets the width of the border.\n",
    "\n",
    "```python\n",
    "# Create the plot and store it in 'ax'\n",
    "ax = shape_data.plot(\n",
    "    column='Population_Change',\n",
    "    legend=True,\n",
    "    legend_kwds={\n",
    "        'label': \"Population Change (%)\",\n",
    "        'orientation': \"horizontal\",\n",
    "        'format': \"%0.2f\"\n",
    "    },\n",
    "    figsize=(15, 9),\n",
    "    cmap='RdBu',\n",
    "    edgecolor='black',\n",
    "    linewidth=0.8\n",
    ")\n",
    "\n",
    "# Use Matplotlib to show the plot\n",
    "ax.set_axis_off()\n",
    "plt.show()\n",
    "```\n",
    "\n",
    "We can't forget adding a title to the graph\n",
    "\n",
    "```python\n",
    "ax.set_title('Population Change in the USA (2020 - 2021)', fontsize=18, weight='bold')\n",
    "```"
   ]
  },
  {
   "cell_type": "code",
   "execution_count": null,
   "id": "5844e9f7",
   "metadata": {},
   "outputs": [],
   "source": []
  },
  {
   "cell_type": "markdown",
   "id": "bc48c42c",
   "metadata": {},
   "source": [
    "And there you have it. From 2021 to 2022, a lot of people moved from New York to Florida and Idaho (?). \n",
    "\n",
    "At this point, I'd like you to stand up and rejoice at what you have accomplished. You have loaded a data file and a shape file directly into a Python script. There you've done some data cleaning and merging (in Python!) and then plotted a pretty cool graph (in Python).\n",
    "\n",
    "Excellent job!\n",
    "\n",
    "## Final exercise\n",
    "\n",
    "Now that you are a Python and Geopandas wizard, it's time to put your skills to the test. In the folder \"exercise_data\" you will find a shape file containing the world's countries and a csv file of containing data on the world's volcanic eruptions during the Holcone. Your task is to:\n",
    "\n",
    "- **Produce a map showing the number of volcanic eruptions per country during the Holocene using Geopandas.**\n",
    "\n",
    "Good luck and as always, if you get stuck or need help, please don't be shy to ask.\n",
    "\n",
    "**Note**: If you are having difficulties preparing the csv file have a look at `DataFrame.groupby` and `DataFrame.reset_index`. If you are still having issues, I have created a summary csv file for you called 'eruptions_count_emergency.csv' for you to continue making the map - try getting to that stage on your own first."
   ]
  },
  {
   "cell_type": "code",
   "execution_count": null,
   "id": "cecbdd4f",
   "metadata": {},
   "outputs": [],
   "source": []
  }
 ],
 "metadata": {
  "kernelspec": {
   "display_name": "Python 3 (ipykernel)",
   "language": "python",
   "name": "python3"
  },
  "language_info": {
   "codemirror_mode": {
    "name": "ipython",
    "version": 3
   },
   "file_extension": ".py",
   "mimetype": "text/x-python",
   "name": "python",
   "nbconvert_exporter": "python",
   "pygments_lexer": "ipython3",
   "version": "3.11.5"
  }
 },
 "nbformat": 4,
 "nbformat_minor": 5
}
