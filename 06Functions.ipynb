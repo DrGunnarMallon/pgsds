{
 "cells": [
  {
   "cell_type": "markdown",
   "id": "f3ee2113-e66f-48ac-94d8-402982669563",
   "metadata": {},
   "source": [
    "<img src=\"images/notebook6_header.png\" width=\"1024\" alt=\"Python for Geospatial Data Science\" style=\"border-radius:10px\"/>\n",
    "\n",
    "**Dr Gunnar Mallon** (g.mallon@rug.nl), *Department of Cultural Geography (Faculty of Spatial Science)*, *University of Groningen*\n",
    "\n",
    "---\n"
   ]
  },
  {
   "cell_type": "markdown",
   "id": "7fbe12bb",
   "metadata": {},
   "source": [
    "Functions allow you to organize your code into reusable, modular components. They are blocks of code that perform a specific task and allow you to break down your program into smaller, more manageable pieces. Functions can be reused multiple times, making your code more organized and easier to maintain.\n",
    "\n",
    "Advantages of using functions for code organization and reusability:\n",
    "- **Modularity**: Functions allow you to divide your program into smaller, self-contained modules. Each function can focus on a specific task, making it easier to understand and debug.\n",
    "- **Code Reusability**: Once you define a function, you can call it multiple times from different parts of your program. This saves you from writing the same code over and over again.\n",
    "- **Readability**: Functions make your code more readable and understandable. By giving meaningful names to your functions, you can convey the purpose of the code block at a glance.\n",
    "\n",
    "Before you can \"call\" a function, such as the `print` function, you need to define (or declare) it. This lets the python compiler know what to do. Let's look at both in more detail."
   ]
  },
  {
   "cell_type": "markdown",
   "id": "151a9308",
   "metadata": {},
   "source": [
    "## Function Definition\n",
    "Syntax for defining functions:\n",
    "```python\n",
    "def function_name(parameter1, parameter2, ...):\n",
    "    # code block\n",
    "    # perform some task\n",
    "    # return a value (optional)\n",
    "```\n",
    "\n",
    "Creating named functions with parameters:\n",
    "```python\n",
    "def greet(name):\n",
    "    print(\"Hello, \" + name + \"!\")\n",
    "\n",
    "def add_numbers(a, b):\n",
    "    return a + b\n",
    "```\n",
    "\n",
    "The role of function names, parameters, and indentation:\n",
    "- **Function Name**: The name of the function should be descriptive and reflect the task it performs. It should follow the naming conventions of Python (e.g., lowercase with words separated by underscores).\n",
    "- **Parameters**: Parameters are placeholders for the values that the function expects to receive when it is called. They allow you to pass data into the function. Think of the `print` function.\n",
    "- **Indentation**: The code block inside the function is indented to indicate that it belongs to the function. Python uses indentation to define the scope of the code."
   ]
  },
  {
   "cell_type": "code",
   "execution_count": null,
   "id": "ef321e1c",
   "metadata": {},
   "outputs": [],
   "source": []
  },
  {
   "cell_type": "markdown",
   "id": "6a746699",
   "metadata": {},
   "source": [
    "## Function Calling\n",
    "Syntax for calling functions with arguments:\n",
    "```python\n",
    "function_name(argument1, argument2, ...)\n",
    "```\n",
    "\n",
    "Passing arguments by position and by keyword:\n",
    "- **Positional Arguments**: When calling a function, you can pass arguments by their position. The order of the arguments matters, and they are assigned to the parameters in the same order.\n",
    "- **Keyword Arguments**: Alternatively, you can pass arguments by specifying the parameter name followed by the argument value. This allows you to pass arguments in any order, as long as you specify the parameter name."
   ]
  },
  {
   "cell_type": "markdown",
   "id": "7f232f84",
   "metadata": {},
   "source": [
    "## The *return* Statement\n",
    "\n",
    "The `return` statement is used to send data back from a function. It allows the function to produce a result that can be used in other parts of the program.\n",
    "\n",
    "```python\n",
    "def square(number):\n",
    "    return number ** 2\n",
    "```\n",
    "\n",
    "**Function without Return Value**: If a function does not have a return statement, it is considered to have a return value of `None`. This is useful for functions that perform actions without producing a result.\n",
    "\n",
    "Multiple return statements in a function:\n",
    "\n",
    "```python\n",
    "def divide(a, b):\n",
    "    if b == 0:\n",
    "        return \"Error: Cannot divide by zero\"\n",
    "    else:\n",
    "        return a / b\n",
    "```\n"
   ]
  },
  {
   "cell_type": "code",
   "execution_count": null,
   "id": "496d66b1",
   "metadata": {},
   "outputs": [],
   "source": []
  },
  {
   "cell_type": "markdown",
   "id": "26f5000b",
   "metadata": {},
   "source": [
    "## Function Documentation (Docstrings)\n",
    "\n",
    "Writing descriptive documentation for functions is import to keep the code readible. \n",
    "\n",
    "- **Docstrings**: Docstrings are used to provide a description of what a function does. They are enclosed in triple quotes (`\"\"\"`) and placed immediately after the function definition.\n",
    "- **Importance of Docstrings**: Docstrings are essential for code readability and maintainability. They help other programmers understand how to use your function and what to expect from it.\n",
    "- **Accessing Docstrings**: You can access the docstring of a function using the `help()` function or by accessing the `__doc__` attribute of the function.\n",
    "\n",
    "```python\n",
    "def square(n):\n",
    "    \"\"\"Takes in a number n, returns the square of n\"\"\"\n",
    "    return n**2\n",
    "\n",
    "print(square.__doc__)\n",
    "```\n",
    "\n",
    "🚀 What output will the code above give? 🚀"
   ]
  },
  {
   "cell_type": "code",
   "execution_count": null,
   "id": "4d370991",
   "metadata": {},
   "outputs": [],
   "source": []
  },
  {
   "cell_type": "markdown",
   "id": "53795dcf",
   "metadata": {},
   "source": [
    "---\n",
    "## Exercises\n",
    "\n",
    "1. Write a function that takes a string as input and prints it in reverse order."
   ]
  },
  {
   "cell_type": "code",
   "execution_count": null,
   "id": "19d4439e",
   "metadata": {},
   "outputs": [],
   "source": []
  },
  {
   "cell_type": "markdown",
   "id": "c02726c8",
   "metadata": {},
   "source": [
    "2. Create a function that calculates the area of a rectangle given its length and width."
   ]
  },
  {
   "cell_type": "code",
   "execution_count": null,
   "id": "b75f0ae8",
   "metadata": {},
   "outputs": [],
   "source": []
  },
  {
   "cell_type": "markdown",
   "id": "610073b7",
   "metadata": {},
   "source": [
    "3. Write a function that takes a list of numbers as input and returns the sum of all the even numbers in the list."
   ]
  },
  {
   "cell_type": "code",
   "execution_count": null,
   "id": "bf167255",
   "metadata": {},
   "outputs": [],
   "source": []
  },
  {
   "cell_type": "markdown",
   "id": "89ac7155",
   "metadata": {},
   "source": [
    "4. Document each of the above functions using docstrings to practice good code documentation. (You may have to look this up)"
   ]
  },
  {
   "cell_type": "code",
   "execution_count": null,
   "id": "d227392e",
   "metadata": {},
   "outputs": [],
   "source": []
  },
  {
   "cell_type": "markdown",
   "id": "3716d34c",
   "metadata": {},
   "source": [
    "---\n",
    "# Function Parameters and Arguments\n",
    "\n",
    "In Python, a parameter is a variable that is used to receive input in a function. It acts as a placeholder for the values that will be passed to the function when it is called. Parameters allow us to make our functions more flexible and reusable.\n",
    "\n",
    "There are different types of function parameters:\n",
    "\n",
    "1. **Required Parameters**: These are parameters that must be provided when calling the function. They are necessary for the function to work correctly.\n",
    "\n",
    "2. **Default Parameters**: These are parameters that have a default value assigned to them. If no value is provided for these parameters when calling the function, the default value will be used.\n",
    "\n",
    "3. **Variable-Length Parameters**: These parameters allow us to pass a variable number of arguments to a function. They are useful when we don't know in advance how many arguments will be passed."
   ]
  },
  {
   "cell_type": "markdown",
   "id": "d7346ceb",
   "metadata": {},
   "source": [
    "## Positional Arguments\n",
    "\n",
    "Positional arguments are the most common type of arguments used in Python functions. They are passed to the function in the same order as they are defined in the function's parameter list.\n",
    "\n",
    "Here's an example:\n",
    "\n",
    "```python\n",
    "def greet(name, age):\n",
    "    print(f\"Hello {name}, you are {age} years old.\")\n",
    "\n",
    "greet(\"Alice\", 25)\n",
    "```\n",
    "\n",
    "Output:\n",
    "```\n",
    "Hello Alice, you are 25 years old.\n",
    "```\n",
    "\n",
    "In the example above, the function `greet` has two parameters: `name` and `age`. When we call the function and pass the arguments `\"Alice\"` and `25`, they are matched to the parameters based on their positions.\n",
    "\n",
    "It's important to note that the order of the arguments must match the order of the parameters. If we swap the arguments, the output will be different:\n",
    "\n",
    "```python\n",
    "greet(25, \"Alice\")\n",
    "```\n",
    "\n",
    "Output:\n",
    "```\n",
    "Hello 25, you are Alice years old.\n",
    "```\n",
    "\n",
    "This is because the arguments are assigned to the parameters based on their positions, not their names.\n",
    "\n",
    "When working with positional arguments, it's important to be careful with the order of the arguments and ensure that they match the parameter positions."
   ]
  },
  {
   "cell_type": "code",
   "execution_count": null,
   "id": "980ba92f",
   "metadata": {},
   "outputs": [],
   "source": []
  },
  {
   "cell_type": "markdown",
   "id": "ad74c91a",
   "metadata": {},
   "source": [
    "## Keyword Arguments\n",
    "\n",
    "Keyword arguments allow us to pass arguments to a function using the parameter names. This improves the readability of the code, as it becomes clear which argument is being passed to which parameter.\n",
    "\n",
    "Here's an example:\n",
    "\n",
    "```python\n",
    "def greet(name, age):\n",
    "    print(f\"Hello {name}, you are {age} years old.\")\n",
    "\n",
    "greet(name=\"Alice\", age=25)\n",
    "```\n",
    "\n",
    "Output:\n",
    "```\n",
    "Hello Alice, you are 25 years old.\n",
    "```\n",
    "\n",
    "In the example above, we are using keyword arguments to pass the values to the parameters. This makes it clear that the argument `\"Alice\"` is being passed to the `name` parameter, and the argument `25` is being passed to the `age` parameter.\n",
    "\n",
    "We can also mix positional and keyword arguments:\n",
    "\n",
    "```python\n",
    "greet(\"Alice\", age=25)\n",
    "```\n",
    "\n",
    "Output:\n",
    "```\n",
    "Hello Alice, you are 25 years old.\n",
    "```\n",
    "\n",
    "In this case, we are using a positional argument for the `name` parameter and a keyword argument for the `age` parameter. The order of the arguments is still important for the positional argument, but the keyword argument can be placed in any order.\n",
    "\n",
    "Using keyword arguments can make our code more readable and self-explanatory, especially when dealing with functions that have many parameters."
   ]
  },
  {
   "cell_type": "code",
   "execution_count": null,
   "id": "6bd1fca6",
   "metadata": {},
   "outputs": [],
   "source": []
  },
  {
   "cell_type": "markdown",
   "id": "57a78ab2",
   "metadata": {},
   "source": [
    "## Default Parameter Values\n",
    "\n",
    "Default parameter values allow us to assign a default value to a parameter. If no value is provided for that parameter when calling the function, the default value will be used.\n",
    "\n",
    "Here's an example:\n",
    "\n",
    "```python\n",
    "def greet(name, age=18):\n",
    "    print(f\"Hello {name}, you are {age} years old.\")\n",
    "\n",
    "greet(\"Alice\")\n",
    "```\n",
    "\n",
    "Output:\n",
    "```\n",
    "Hello Alice, you are 18 years old.\n",
    "```\n",
    "\n",
    "In the example above, the `age` parameter has a default value of `18`. When we call the function without providing a value for `age`, the default value is used.\n",
    "\n",
    "We can also override the default value by providing a different value:\n",
    "\n",
    "```python\n",
    "greet(\"Bob\", 30)\n",
    "```\n",
    "\n",
    "Output:\n",
    "```\n",
    "Hello Bob, you are 30 years old.\n",
    "```\n",
    "\n",
    "In this case, the default value of `18` is overridden by the value `30` that we provided when calling the function.\n",
    "\n",
    "Default parameter values are useful when we want to make certain parameters optional. They allow us to provide a default behavior for the function while still allowing the caller to customize it if needed."
   ]
  },
  {
   "cell_type": "code",
   "execution_count": null,
   "id": "261a4dee",
   "metadata": {},
   "outputs": [],
   "source": []
  },
  {
   "cell_type": "markdown",
   "id": "2e98566a",
   "metadata": {},
   "source": [
    "## Variable-Length Argument Lists\n",
    "\n",
    "Variable-length argument lists allow us to pass a variable number of arguments to a function. This is useful when we don't know in advance how many arguments will be passed.\n",
    "\n",
    "In Python, we can use the `*args` syntax to define a parameter that will collect all the positional arguments into a tuple.\n",
    "\n",
    "Here's an example:\n",
    "\n",
    "```python\n",
    "def sum_numbers(*args):\n",
    "    total = 0\n",
    "    for num in args:\n",
    "        total += num\n",
    "    return total\n",
    "\n",
    "print(sum_numbers(1, 2, 3, 4, 5))\n",
    "```\n",
    "\n",
    "Output:\n",
    "```\n",
    "15\n",
    "```\n",
    "\n",
    "In the example above, the `sum_numbers` function accepts any number of arguments and adds them together. The `*args` parameter collects all the positional arguments into a tuple, which we can then iterate over to perform the desired operation.\n",
    "\n",
    "Variable-length argument lists are particularly useful when we want to create functions that can handle a varying number of inputs."
   ]
  },
  {
   "cell_type": "code",
   "execution_count": null,
   "id": "c8f408f8",
   "metadata": {},
   "outputs": [],
   "source": []
  },
  {
   "cell_type": "markdown",
   "id": "8ab1d581",
   "metadata": {},
   "source": [
    "---\n",
    "## Exercises\n",
    "\n",
    "1. Write a function called `greet_person` that takes two parameters: `name` and `time_of_day`. The function should print a greeting message that includes the person's name and the time of day. If no time of day is provided, the default value should be `Morning`. Test the function by calling it with different values for `name` and `time_of_day`."
   ]
  },
  {
   "cell_type": "code",
   "execution_count": null,
   "id": "0fc7ae2c",
   "metadata": {},
   "outputs": [],
   "source": []
  },
  {
   "cell_type": "markdown",
   "id": "ce32a096",
   "metadata": {},
   "source": [
    "2. Write a function called `smallest_number` that takes a variable number of arguments. The function should return the smallest of all the numbers passed as arguments. Test the function by calling it with different numbers."
   ]
  },
  {
   "cell_type": "code",
   "execution_count": null,
   "id": "23d364a6",
   "metadata": {},
   "outputs": [],
   "source": []
  },
  {
   "cell_type": "markdown",
   "id": "6586f79f",
   "metadata": {},
   "source": [
    "4. Write a function called `print_info` that takes a person's information as keyword arguments: `name`, `age`, and `city`. The function should print the person's information in a formatted way. Test the function by calling it with different values for the keyword arguments."
   ]
  },
  {
   "cell_type": "code",
   "execution_count": null,
   "id": "b434f9c7",
   "metadata": {},
   "outputs": [],
   "source": []
  },
  {
   "cell_type": "markdown",
   "id": "d5ef4e95",
   "metadata": {},
   "source": [
    "---\n",
    "\n",
    "# Scope and Lifetime of Variables\n",
    "\n",
    "In this section, we will explore the concept of variable scope and lifetime in Python. Understanding how variables are scoped and how they interact with different parts of your code is crucial for writing efficient and bug-free programs. We will cover topics such as local and global variables, the LEGB rule for variable resolution, modifying global variables using the `global` keyword, and more."
   ]
  },
  {
   "cell_type": "markdown",
   "id": "65835ce1",
   "metadata": {},
   "source": [
    "## Variable Scope\n",
    "\n",
    "In Python, the scope of a variable determines its visibility and accessibility throughout the code. The scope of a variable is defined by where it is declared or assigned. The two main types of variable scope are local and global.\n",
    "\n",
    "### Local and global variables\n",
    "\n",
    "A local variable is a variable that is defined within a specific block of code, such as a function. It can only be accessed and used within that block of code. Once the block of code is executed, the local variable is destroyed and its value is no longer accessible.\n",
    "\n",
    "```python\n",
    "def my_function():\n",
    "    x = 10  # local variable\n",
    "    print(x)\n",
    "\n",
    "my_function()  # Output: 10\n",
    "print(x)  # Error: NameError: name 'x' is not defined\n",
    "```\n",
    "\n",
    "In the example above, `x` is a local variable within the `my_function()` function. It can only be accessed within the function, and trying to access it outside of the function will result in a `NameError`.\n",
    "\n",
    "A global variable, on the other hand, is a variable that is defined outside of any function or block of code. It can be accessed and used throughout the entire program, including within functions.\n",
    "\n",
    "```python\n",
    "x = 10  # global variable\n",
    "\n",
    "def my_function():\n",
    "    print(x)\n",
    "\n",
    "my_function()  # Output: 10\n",
    "print(x)  # Output: 10\n",
    "```\n",
    "\n",
    "In this example, `x` is a global variable. It is defined outside of any function and can be accessed both within the `my_function()` function and outside of it."
   ]
  },
  {
   "cell_type": "code",
   "execution_count": null,
   "id": "a1d40ac2",
   "metadata": {},
   "outputs": [],
   "source": []
  },
  {
   "cell_type": "markdown",
   "id": "231c3ad4",
   "metadata": {},
   "source": [
    "### The LEGB (Local, Enclosing, Global, Built-in) rule for variable resolution\n",
    "\n",
    "When a variable is referenced in Python, the interpreter follows a specific order to resolve the variable name. This order is known as the LEGB rule:\n",
    "\n",
    "1. Local (L): The interpreter first looks for the variable in the local scope, i.e., within the current function or block of code.\n",
    "2. Enclosing (E): If the variable is not found in the local scope, the interpreter looks in the enclosing scope. This applies to nested functions, where each level of nesting has its own scope.\n",
    "3. Global (G): If the variable is not found in the local or enclosing scope, the interpreter looks in the global scope, i.e., the module-level scope.\n",
    "4. Built-in (B): If the variable is not found in any of the above scopes, the interpreter finally looks for it in the built-in scope, which contains Python's built-in functions and modules.\n",
    "\n",
    "```python\n",
    "x = 10  # global variable\n",
    "\n",
    "def my_function():\n",
    "    x = 5  # local variable\n",
    "    print(x)\n",
    "\n",
    "my_function()  # Output: 5\n",
    "print(x)  # Output: 10\n",
    "```\n",
    "\n",
    "In this example, the variable `x` is first searched for in the local scope of the `my_function()` function. Since it is found there, the local value of `x` (5) is printed. However, when we try to print `x` outside of the function, the global value of `x` (10) is printed instead."
   ]
  },
  {
   "cell_type": "code",
   "execution_count": null,
   "id": "90ee3836",
   "metadata": {},
   "outputs": [],
   "source": []
  },
  {
   "cell_type": "markdown",
   "id": "d8009488",
   "metadata": {},
   "source": [
    "# Lambda Functions\n",
    "\n",
    "Lambda functions, also known as anonymous functions, are a powerful feature in Python that allow you to define small, one-line functions without a name. They are particularly useful when you need to create a function for a specific task that you don't plan on using again.\n",
    "\n",
    "The main advantage of lambda functions is their simplicity and conciseness. They can be defined in a single line of code, making them easy to read and understand. Lambda functions are commonly used in situations where a regular function would be overkill or when you need a quick function definition.\n",
    "\n",
    "Lambda functions are defined using the `lambda` keyword, followed by a list of arguments, a colon, and the expression that the function will evaluate. The result of the expression is automatically returned by the lambda function.\n",
    "\n",
    "```python\n",
    "lambda arguments: expression\n",
    "```\n",
    "\n",
    "Here's an example of a lambda function that calculates the square of a number:\n",
    "\n",
    "```python\n",
    "square = lambda x: x ** 2\n",
    "print(square(5))  # Output: 25\n",
    "```\n",
    "\n",
    "In this example, the lambda function takes a single argument `x` and returns the square of `x`. The lambda function is assigned to the variable `square`, and we can call it like a regular function.\n",
    "\n",
    "Lambda functions can also have multiple arguments. For example, here's a lambda function that calculates the sum of two numbers:\n",
    "\n",
    "```python\n",
    "add = lambda x, y: x + y\n",
    "print(add(3, 4))  # Output: 7\n",
    "```\n",
    "\n",
    "In this case, the lambda function takes two arguments `x` and `y` and returns their sum.\n",
    "\n",
    "Lambda functions can be used in various scenarios, such as sorting, filtering, and mapping data. They are particularly useful when you need to pass a function as an argument to another function, as we will see in the next sections."
   ]
  },
  {
   "cell_type": "markdown",
   "id": "4965b580",
   "metadata": {},
   "source": [
    "### Examples\n",
    "\n",
    "Let's see some practical examples of lambda functions:\n",
    "\n",
    "```python\n",
    "# Example 1: Multiply two numbers\n",
    "\n",
    "multiply = lambda x, y: x * y\n",
    "print(multiply(2, 3))  # Output: 6\n",
    "\n",
    "# Example 2: Check if a number is even\n",
    "\n",
    "is_even = lambda x: x % 2 == 0\n",
    "print(is_even(4))  # Output: True\n",
    "print(is_even(5))  # Output: False\n",
    "\n",
    "# Example 3: Convert a string to uppercase\n",
    "\n",
    "to_upper = lambda s: s.upper()\n",
    "print(to_upper(\"hello\"))  # Output: \"HELLO\"\n",
    "```\n",
    "\n",
    "In these examples, we define lambda functions for different tasks. The first lambda function multiplies two numbers, the second lambda function checks if a number is even, and the third lambda function converts a string to uppercase."
   ]
  },
  {
   "cell_type": "markdown",
   "id": "71c15d76",
   "metadata": {},
   "source": [
    "## Using Lambda with map(), filter(), and reduce()\n",
    "\n",
    "Lambda functions are commonly used in combination with built-in functions like `map()`, `filter()`, and `reduce()` to perform operations on sequences.\n",
    "\n",
    "### Applying lambda functions to sequences with map()\n",
    "The `map()` function applies a given function to each item in a sequence and returns a new sequence with the results. It takes two arguments: the function to apply and the sequence to apply it to.\n",
    "\n",
    "Here's an example that uses a lambda function with `map()` to calculate the square of each number in a list:\n",
    "\n",
    "```python\n",
    "numbers = [1, 2, 3, 4, 5]\n",
    "squared_numbers = list(map(lambda x: x ** 2, numbers))\n",
    "print(squared_numbers)  # Output: [1, 4, 9, 16, 25]\n",
    "```\n",
    "\n",
    "In this example, the lambda function `lambda x: x ** 2` is applied to each item in the `numbers` list using `map()`. The result is a new list `squared_numbers` containing the squares of the original numbers."
   ]
  },
  {
   "cell_type": "code",
   "execution_count": null,
   "id": "bf6349f0",
   "metadata": {},
   "outputs": [],
   "source": []
  },
  {
   "cell_type": "markdown",
   "id": "d9de9a3c",
   "metadata": {},
   "source": [
    "### Filtering elements with filter() and lambda functions\n",
    "The `filter()` function filters a sequence based on a given condition. It takes two arguments: the function that defines the condition and the sequence to filter.\n",
    "\n",
    "Here's an example that uses a lambda function with `filter()` to filter out the even numbers from a list:\n",
    "\n",
    "```python\n",
    "numbers = [1, 2, 3, 4, 5]\n",
    "even_numbers = list(filter(lambda x: x % 2 == 0, numbers))\n",
    "print(even_numbers)  # Output: [2, 4]\n",
    "```\n",
    "\n",
    "In this example, the lambda function `lambda x: x % 2 == 0` is used with `filter()` to filter out the even numbers from the `numbers` list. The result is a new list `even_numbers` containing only the even numbers.\n"
   ]
  },
  {
   "cell_type": "code",
   "execution_count": null,
   "id": "bd7af21c",
   "metadata": {},
   "outputs": [],
   "source": []
  },
  {
   "cell_type": "markdown",
   "id": "714c8a4b",
   "metadata": {},
   "source": [
    "### Reducing sequences with reduce() and lambda functions\n",
    "The `reduce()` function applies a given function to the first two items in a sequence, then applies it to the result and the next item, and so on, until the sequence is reduced to a single value. It takes two arguments: the function to apply and the sequence to reduce.\n",
    "\n",
    "Here's an example that uses a lambda function with `reduce()` to calculate the product of all numbers in a list:\n",
    "\n",
    "```python\n",
    "from functools import reduce\n",
    "\n",
    "numbers = [1, 2, 3, 4, 5]\n",
    "product = reduce(lambda x, y: x * y, numbers)\n",
    "print(product)  # Output: 120\n",
    "```\n",
    "\n",
    "In this example, the lambda function `lambda x, y: x * y` is used with `reduce()` to calculate the product of all numbers in the `numbers` list. The result is the product of all the numbers, which is 120."
   ]
  },
  {
   "cell_type": "markdown",
   "id": "bb4f525c",
   "metadata": {},
   "source": [
    "---\n",
    "## Exercises\n",
    "\n",
    "1. Write a lambda function that takes a string as input and returns the length of the string.\n"
   ]
  },
  {
   "cell_type": "code",
   "execution_count": null,
   "id": "0f1ea257",
   "metadata": {},
   "outputs": [],
   "source": []
  },
  {
   "cell_type": "markdown",
   "id": "c97b7c80",
   "metadata": {},
   "source": [
    "2. Use a lambda function with `map()` to convert a list of strings to uppercase."
   ]
  },
  {
   "cell_type": "code",
   "execution_count": null,
   "id": "41364ffc",
   "metadata": {},
   "outputs": [],
   "source": []
  },
  {
   "cell_type": "markdown",
   "id": "ab3d73f3",
   "metadata": {},
   "source": [
    "3. Use a lambda function with `filter()` to filter out the numbers divisible by 3 from a list of integers."
   ]
  },
  {
   "cell_type": "code",
   "execution_count": null,
   "id": "6d4ba204",
   "metadata": {},
   "outputs": [],
   "source": []
  },
  {
   "cell_type": "markdown",
   "id": "ddf7352d",
   "metadata": {},
   "source": [
    "4. Use a lambda function with `reduce()` to find the maximum number in a list of integers."
   ]
  },
  {
   "cell_type": "code",
   "execution_count": null,
   "id": "ae343a6c",
   "metadata": {},
   "outputs": [],
   "source": []
  },
  {
   "cell_type": "markdown",
   "id": "78b7e811",
   "metadata": {},
   "source": [
    "## Conclusion\n",
    "\n",
    "In this chapter, you've delved deep into the world of functions, a vital component of any Python program. You've learned how to define, call, and document functions, as well as work with different types of parameters. Understanding the scope and lifetime of variables within functions is crucial for writing efficient and reliable code."
   ]
  },
  {
   "cell_type": "code",
   "execution_count": null,
   "id": "4d0398be",
   "metadata": {},
   "outputs": [],
   "source": []
  }
 ],
 "metadata": {
  "kernelspec": {
   "display_name": "Python 3 (ipykernel)",
   "language": "python",
   "name": "python3"
  },
  "language_info": {
   "codemirror_mode": {
    "name": "ipython",
    "version": 3
   },
   "file_extension": ".py",
   "mimetype": "text/x-python",
   "name": "python",
   "nbconvert_exporter": "python",
   "pygments_lexer": "ipython3",
   "version": "3.11.5"
  }
 },
 "nbformat": 4,
 "nbformat_minor": 5
}
